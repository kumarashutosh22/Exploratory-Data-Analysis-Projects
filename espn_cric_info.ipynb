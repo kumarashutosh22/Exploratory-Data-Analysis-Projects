{
  "nbformat": 4,
  "nbformat_minor": 0,
  "metadata": {
    "colab": {
      "name": "espn_cric_info.ipynb",
      "provenance": [],
      "authorship_tag": "ABX9TyNDua1Yx2o4EmnkzQuk+cLz"
    },
    "kernelspec": {
      "name": "python3",
      "display_name": "Python 3"
    }
  },
  "cells": [
    {
      "cell_type": "markdown",
      "metadata": {
        "id": "XJvZHoiGXHZ4"
      },
      "source": [
        "# rough work"
      ]
    },
    {
      "cell_type": "code",
      "metadata": {
        "id": "RiN_dqBGfs4K",
        "colab": {
          "base_uri": "https://localhost:8080/"
        },
        "outputId": "092a2853-3822-40c0-8a36-64c3fb4e2b87"
      },
      "source": [
        "!pip install selenium\r\n",
        "!apt-get update # to update ubuntu to correctly run apt install\r\n",
        "!apt install chromium-chromedriver\r\n",
        "!cp /usr/lib/chromium-browser/chromedriver/usr/bin"
      ],
      "execution_count": 41,
      "outputs": [
        {
          "output_type": "stream",
          "text": [
            "Collecting selenium\n",
            "\u001b[?25l  Downloading https://files.pythonhosted.org/packages/80/d6/4294f0b4bce4de0abf13e17190289f9d0613b0a44e5dd6a7f5ca98459853/selenium-3.141.0-py2.py3-none-any.whl (904kB)\n",
            "\u001b[K     |████████████████████████████████| 911kB 5.0MB/s \n",
            "\u001b[?25hRequirement already satisfied: urllib3 in /usr/local/lib/python3.7/dist-packages (from selenium) (1.24.3)\n",
            "Installing collected packages: selenium\n",
            "Successfully installed selenium-3.141.0\n",
            "Ign:1 https://developer.download.nvidia.com/compute/cuda/repos/ubuntu1804/x86_64  InRelease\n",
            "Get:2 https://cloud.r-project.org/bin/linux/ubuntu bionic-cran40/ InRelease [3,626 B]\n",
            "Get:3 http://ppa.launchpad.net/c2d4u.team/c2d4u4.0+/ubuntu bionic InRelease [15.9 kB]\n",
            "Ign:4 https://developer.download.nvidia.com/compute/machine-learning/repos/ubuntu1804/x86_64  InRelease\n",
            "Hit:5 https://developer.download.nvidia.com/compute/cuda/repos/ubuntu1804/x86_64  Release\n",
            "Hit:6 http://archive.ubuntu.com/ubuntu bionic InRelease\n",
            "Hit:7 https://developer.download.nvidia.com/compute/machine-learning/repos/ubuntu1804/x86_64  Release\n",
            "Get:8 http://security.ubuntu.com/ubuntu bionic-security InRelease [88.7 kB]\n",
            "Get:9 http://archive.ubuntu.com/ubuntu bionic-updates InRelease [88.7 kB]\n",
            "Hit:10 http://ppa.launchpad.net/cran/libgit2/ubuntu bionic InRelease\n",
            "Get:11 http://archive.ubuntu.com/ubuntu bionic-backports InRelease [74.6 kB]\n",
            "Hit:12 http://ppa.launchpad.net/deadsnakes/ppa/ubuntu bionic InRelease\n",
            "Hit:14 http://ppa.launchpad.net/graphics-drivers/ppa/ubuntu bionic InRelease\n",
            "Get:16 http://ppa.launchpad.net/c2d4u.team/c2d4u4.0+/ubuntu bionic/main Sources [1,738 kB]\n",
            "Get:17 http://archive.ubuntu.com/ubuntu bionic-updates/restricted amd64 Packages [334 kB]\n",
            "Get:18 http://security.ubuntu.com/ubuntu bionic-security/restricted amd64 Packages [304 kB]\n",
            "Get:19 http://archive.ubuntu.com/ubuntu bionic-updates/main amd64 Packages [2,395 kB]\n",
            "Get:20 http://ppa.launchpad.net/c2d4u.team/c2d4u4.0+/ubuntu bionic/main amd64 Packages [889 kB]\n",
            "Get:21 http://security.ubuntu.com/ubuntu bionic-security/multiverse amd64 Packages [43.5 kB]\n",
            "Get:22 http://security.ubuntu.com/ubuntu bionic-security/main amd64 Packages [1,964 kB]\n",
            "Get:23 http://archive.ubuntu.com/ubuntu bionic-updates/multiverse amd64 Packages [50.5 kB]\n",
            "Get:24 http://archive.ubuntu.com/ubuntu bionic-updates/universe amd64 Packages [2,163 kB]\n",
            "Get:25 http://security.ubuntu.com/ubuntu bionic-security/universe amd64 Packages [1,392 kB]\n",
            "Fetched 11.5 MB in 3s (3,598 kB/s)\n",
            "Reading package lists... Done\n",
            "Reading package lists... Done\n",
            "Building dependency tree       \n",
            "Reading state information... Done\n",
            "The following additional packages will be installed:\n",
            "  chromium-browser chromium-browser-l10n chromium-codecs-ffmpeg-extra\n",
            "Suggested packages:\n",
            "  webaccounts-chromium-extension unity-chromium-extension adobe-flashplugin\n",
            "The following NEW packages will be installed:\n",
            "  chromium-browser chromium-browser-l10n chromium-chromedriver\n",
            "  chromium-codecs-ffmpeg-extra\n",
            "0 upgraded, 4 newly installed, 0 to remove and 29 not upgraded.\n",
            "Need to get 81.0 MB of archives.\n",
            "After this operation, 273 MB of additional disk space will be used.\n",
            "Get:1 http://archive.ubuntu.com/ubuntu bionic-updates/universe amd64 chromium-codecs-ffmpeg-extra amd64 87.0.4280.66-0ubuntu0.18.04.1 [1,122 kB]\n",
            "Get:2 http://archive.ubuntu.com/ubuntu bionic-updates/universe amd64 chromium-browser amd64 87.0.4280.66-0ubuntu0.18.04.1 [71.7 MB]\n",
            "Get:3 http://archive.ubuntu.com/ubuntu bionic-updates/universe amd64 chromium-browser-l10n all 87.0.4280.66-0ubuntu0.18.04.1 [3,716 kB]\n",
            "Get:4 http://archive.ubuntu.com/ubuntu bionic-updates/universe amd64 chromium-chromedriver amd64 87.0.4280.66-0ubuntu0.18.04.1 [4,488 kB]\n",
            "Fetched 81.0 MB in 3s (24.0 MB/s)\n",
            "Selecting previously unselected package chromium-codecs-ffmpeg-extra.\n",
            "(Reading database ... 149414 files and directories currently installed.)\n",
            "Preparing to unpack .../chromium-codecs-ffmpeg-extra_87.0.4280.66-0ubuntu0.18.04.1_amd64.deb ...\n",
            "Unpacking chromium-codecs-ffmpeg-extra (87.0.4280.66-0ubuntu0.18.04.1) ...\n",
            "Selecting previously unselected package chromium-browser.\n",
            "Preparing to unpack .../chromium-browser_87.0.4280.66-0ubuntu0.18.04.1_amd64.deb ...\n",
            "Unpacking chromium-browser (87.0.4280.66-0ubuntu0.18.04.1) ...\n",
            "Selecting previously unselected package chromium-browser-l10n.\n",
            "Preparing to unpack .../chromium-browser-l10n_87.0.4280.66-0ubuntu0.18.04.1_all.deb ...\n",
            "Unpacking chromium-browser-l10n (87.0.4280.66-0ubuntu0.18.04.1) ...\n",
            "Selecting previously unselected package chromium-chromedriver.\n",
            "Preparing to unpack .../chromium-chromedriver_87.0.4280.66-0ubuntu0.18.04.1_amd64.deb ...\n",
            "Unpacking chromium-chromedriver (87.0.4280.66-0ubuntu0.18.04.1) ...\n",
            "Setting up chromium-codecs-ffmpeg-extra (87.0.4280.66-0ubuntu0.18.04.1) ...\n",
            "Setting up chromium-browser (87.0.4280.66-0ubuntu0.18.04.1) ...\n",
            "update-alternatives: using /usr/bin/chromium-browser to provide /usr/bin/x-www-browser (x-www-browser) in auto mode\n",
            "update-alternatives: using /usr/bin/chromium-browser to provide /usr/bin/gnome-www-browser (gnome-www-browser) in auto mode\n",
            "Setting up chromium-chromedriver (87.0.4280.66-0ubuntu0.18.04.1) ...\n",
            "Setting up chromium-browser-l10n (87.0.4280.66-0ubuntu0.18.04.1) ...\n",
            "Processing triggers for hicolor-icon-theme (0.17-2) ...\n",
            "Processing triggers for mime-support (3.60ubuntu1) ...\n",
            "Processing triggers for man-db (2.8.3-2ubuntu0.1) ...\n",
            "cp: missing destination file operand after '/usr/lib/chromium-browser/chromedriver/usr/bin'\n",
            "Try 'cp --help' for more information.\n"
          ],
          "name": "stdout"
        }
      ]
    },
    {
      "cell_type": "code",
      "metadata": {
        "id": "xgMZ7fbEf0al"
      },
      "source": [
        "import sys\r\n",
        "sys.path.insert(0,'/usr/lib/chromium-browser/chromedriver')\r\n",
        "from selenium import webdriver"
      ],
      "execution_count": 42,
      "outputs": []
    },
    {
      "cell_type": "code",
      "metadata": {
        "id": "abgqXmK4bgLr"
      },
      "source": [
        "chrome_options = webdriver.ChromeOptions()\r\n",
        "chrome_options.add_argument('--headless')\r\n",
        "chrome_options.add_argument('--no-sandbox')\r\n",
        "chrome_options.add_argument('--disable-dev-shm-usage')"
      ],
      "execution_count": 43,
      "outputs": []
    },
    {
      "cell_type": "code",
      "metadata": {
        "colab": {
          "base_uri": "https://localhost:8080/"
        },
        "id": "ubyO-_A7eRl4",
        "outputId": "c0cd15f4-f27e-459f-c25f-92f23e7c82b9"
      },
      "source": [
        "wd = webdriver.Chrome('chromedriver',chrome_options=chrome_options)\r\n",
        "wd.get(\"https://quotes.toscrape.com/\")"
      ],
      "execution_count": 44,
      "outputs": [
        {
          "output_type": "stream",
          "text": [
            "/usr/local/lib/python3.7/dist-packages/ipykernel_launcher.py:1: DeprecationWarning: use options instead of chrome_options\n",
            "  \"\"\"Entry point for launching an IPython kernel.\n"
          ],
          "name": "stderr"
        }
      ]
    },
    {
      "cell_type": "code",
      "metadata": {
        "id": "r66_sPEMewYl"
      },
      "source": [
        "import bs4\r\n",
        "import requests\r\n",
        "\r\n",
        "url = \"https://old.reddit.com/r/datascience/\"\r\n",
        "# Headers to mimic a browser visit\r\n",
        "headers = {'User-Agent': 'Mozilla/5.0'}\r\n",
        "\r\n",
        "# Returns a requests.models.Response object\r\n",
        "page = requests.get(url, headers=headers)"
      ],
      "execution_count": 45,
      "outputs": []
    },
    {
      "cell_type": "code",
      "metadata": {
        "id": "h4WBu7_jfaqE"
      },
      "source": [
        "soup = bs4.BeautifulSoup(page.text,'lxml')"
      ],
      "execution_count": 46,
      "outputs": []
    },
    {
      "cell_type": "code",
      "metadata": {
        "colab": {
          "base_uri": "https://localhost:8080/"
        },
        "id": "RnaS0vX-eG31",
        "outputId": "7fd8b388-3d45-4826-a1f9-4900d5e5b105"
      },
      "source": [
        "for i in soup.select('.title'):\r\n",
        "  print(i.text)"
      ],
      "execution_count": null,
      "outputs": [
        {
          "output_type": "stream",
          "text": [
            "my subreddits\n",
            "MODERATORS\n",
            "[Official] 2020 End of Year Salary Sharing thread (self.datascience)\n",
            "[Official] 2020 End of Year Salary Sharing thread\n",
            "DiscussionWeekly Entering & Transitioning Thread | 07 Feb 2021 - 14 Feb 2021 (self.datascience)\n",
            "Weekly Entering & Transitioning Thread | 07 Feb 2021 - 14 Feb 2021\n",
            "Job SearchCompetitive Job Market (self.datascience)\n",
            "Competitive Job Market\n",
            "DiscussionRunning a script? Creating an extract? Get your ass out of your chair and stretch (self.datascience)\n",
            "Running a script? Creating an extract? Get your ass out of your chair and stretch\n",
            "DiscussionBilingual (R/Python) Data Scientists: How Do You Choose Which to Use in Your Work? (self.datascience)\n",
            "Bilingual (R/Python) Data Scientists: How Do You Choose Which to Use in Your Work?\n",
            "Upgrade to PyCharm, the leading Python IDE: best in class debugging, code navigation, refactoring, support for Django, Flask, Pyramid, Docker, and more. (jetbrains.com/pycharm)\n",
            "Upgrade to PyCharm, the leading Python IDE: best in class debugging, code navigation, refactoring, support for Django, Flask, Pyramid, Docker, and more.\n",
            "DiscussionData Scientists in support functions, what are your tips for balancing projects? (self.datascience)\n",
            "Data Scientists in support functions, what are your tips for balancing projects?\n",
            "DiscussionWhen do you do proper work? Calls are destroying my -and my team's- productivity (self.datascience)\n",
            "When do you do proper work? Calls are destroying my -and my team's- productivity\n",
            "How to evaluate graduate programs for a DS career (self.datascience)\n",
            "How to evaluate graduate programs for a DS career\n",
            "EducationR exercices as CodingBat with Python exercices? (self.datascience)\n",
            "R exercices as CodingBat with Python exercices?\n",
            "Job SearchI rejected an job position right in the middle of the interview (self.datascience)\n",
            "I rejected an job position right in the middle of the interview\n",
            "Fun/TriviaChess, Classical Players and Blitz : Rating's Visualized. (self.datascience)\n",
            "Chess, Classical Players and Blitz : Rating's Visualized.\n",
            "EducationArticle on Image Classification using ResNet9 in PyTorch (self.datascience)\n",
            "Article on Image Classification using ResNet9 in PyTorch\n",
            "Fun/TriviaHow do you deal with early morning meetings and presentations? I just bombed a super-day because it started at 8:00 AM and I'd love to hear people's morning routines to get themselves moving. (self.datascience)\n",
            "How do you deal with early morning meetings and presentations? I just bombed a super-day because it started at 8:00 AM and I'd love to hear people's morning routines to get themselves moving.\n",
            "Job SearchShould I just work as anything? (self.datascience)\n",
            "Should I just work as anything?\n",
            "Discussionhow does a computer \"learn\" to play chess? (self.datascience)\n",
            "how does a computer \"learn\" to play chess?\n",
            "EducationBest Online Courses to learn Data Science and SQL in excel (self.datascience)\n",
            "Best Online Courses to learn Data Science and SQL in excel\n",
            "DiscussionWhat would be a good metod to find shapes in time series data (such as gaussian distributions, rectangles, etc...) ? (self.datascience)\n",
            "What would be a good metod to find shapes in time series data (such as gaussian distributions, rectangles, etc...) ?\n",
            "EducationDetermine if project is Datascience or just Software Development? (self.datascience)\n",
            "Determine if project is Datascience or just Software Development?\n",
            "Buying S&P 500 options based on these indicators made +141% in 5 weeks (https://macrosentiments.com/stocks)\n",
            "Buying S&P 500 options based on these indicators made +141% in 5 weeks\n",
            "DiscussionWhat areas/skills/technologies within data science have the greatest supply-demand disparity? (self.datascience)\n",
            "What areas/skills/technologies within data science have the greatest supply-demand disparity?\n",
            "Fun/TriviaFriendly reminder to myself: sometimes there's a better tool (self.datascience)\n",
            "Friendly reminder to myself: sometimes there's a better tool\n",
            "EducationData Science Masters - The Good, the Bad, The Ugly (self.datascience)\n",
            "Data Science Masters - The Good, the Bad, The Ugly\n",
            "DiscussionRecommendations for co-working on Jupyter Notebooks (self.datascience)\n",
            "Recommendations for co-working on Jupyter Notebooks\n",
            "CareerIs anybody else here trying to actively push back against the data science hype? (self.datascience)\n",
            "Is anybody else here trying to actively push back against the data science hype?\n",
            "DiscussionWhat books are you currently reading? (self.datascience)\n",
            "What books are you currently reading?\n",
            "DiscussionELI5: Differences and similarities between Statistics, Machine Learning, AI, data mining? (self.datascience)\n",
            "ELI5: Differences and similarities between Statistics, Machine Learning, AI, data mining?\n",
            "DiscussionIs there any app/website hosting a tree branched hierarchical big data visualization ? (self.datascience)\n",
            "Is there any app/website hosting a tree branched hierarchical big data visualization ?\n",
            "CareerDoes anyone regret not going into software engineering? (self.datascience)\n",
            "Does anyone regret not going into software engineering?\n",
            "about\n",
            "help\n",
            "apps & tools\n",
            "<3\n"
          ],
          "name": "stdout"
        }
      ]
    },
    {
      "cell_type": "code",
      "metadata": {
        "colab": {
          "base_uri": "https://localhost:8080/"
        },
        "id": "ciLX2wKCjLqf",
        "outputId": "b56843f8-feca-4ada-a3ca-fce3ea41031d"
      },
      "source": [
        "for i in soup.select('.author'):\r\n",
        "  print(i.text)"
      ],
      "execution_count": null,
      "outputs": [
        {
          "output_type": "stream",
          "text": [
            "mhermans\n",
            "mhermans\n",
            "shaggorama\n",
            "Omega037\n",
            "patrickSwayzeNU\n",
            "vogt4nick\n",
            "dfphd\n",
            "datascience-bot\n",
            "Omega037\n",
            "datascience-bot\n",
            "BuffaloJuice\n",
            "modtrax\n",
            "TobyTheCamel\n",
            "JetBrains_official\n",
            "expatwithajetpack\n",
            "bramapuptra\n",
            "dfphd\n",
            "letees\n",
            "aouninator\n",
            "the_ikaist\n",
            "whitefang0p\n",
            "KangarooInAZoo\n",
            "killanight\n",
            "blueest\n",
            "BigBallerBenzie\n",
            "OcamlChamelion\n",
            "narimantos\n",
            "Macrosentiment\n",
            "HardRWarrior\n",
            "tururut_tururut\n",
            "TheBankTank\n",
            "Theisnoo\n",
            "Least_Curious_Crab\n",
            "NoDistractionz\n",
            "Beavisx_K_90\n",
            "Niu_Davinci\n",
            "statistical_engineer\n"
          ],
          "name": "stdout"
        }
      ]
    },
    {
      "cell_type": "code",
      "metadata": {
        "colab": {
          "base_uri": "https://localhost:8080/"
        },
        "id": "GsNwmSdljzf-",
        "outputId": "7a81f927-8e9b-4d89-e766-b02f72e8659e"
      },
      "source": [
        "for i in soup.select('.comments'):\r\n",
        "  if i.text == 'comment':\r\n",
        "    print(0)\r\n",
        "  else:\r\n",
        "    print(i.text.split()[0])"
      ],
      "execution_count": null,
      "outputs": [
        {
          "output_type": "stream",
          "text": [
            "256\n",
            "29\n",
            "86\n",
            "41\n",
            "16\n",
            "75\n",
            "0\n",
            "57\n",
            "0\n",
            "2\n",
            "0\n",
            "0\n",
            "0\n",
            "140\n",
            "5\n",
            "3\n",
            "2\n",
            "2\n",
            "4\n",
            "35\n",
            "32\n",
            "1\n",
            "181\n",
            "6\n",
            "303\n",
            "13\n",
            "15\n",
            "0\n",
            "20\n"
          ],
          "name": "stdout"
        }
      ]
    },
    {
      "cell_type": "code",
      "metadata": {
        "colab": {
          "base_uri": "https://localhost:8080/"
        },
        "id": "YfaxXHE5ktcg",
        "outputId": "5a597985-e816-4d5f-f872-d869d102962d"
      },
      "source": [
        "import pandas as pd\r\n",
        "listingurl = \"http://www.espn.com/college-sports/football/recruiting/playerrankings/_/view/rn300\"\r\n",
        "df_list = pd.read_html(listingurl)\r\n",
        "# df_list[0].to_csv('footballers.csv')\r\n",
        "df_list"
      ],
      "execution_count": null,
      "outputs": [
        {
          "output_type": "execute_result",
          "data": {
            "text/plain": [
              "[       0                                        1  ...      7                 8\n",
              " 0     RK                                   PLAYER  ...  GRADE            SCHOOL\n",
              " 1      1         Jack SawyerVideo | Scouts Report  ...     91  Ohio StateSigned\n",
              " 2      2  Tommy BrockermeyerVideo | Scouts Report  ...     91     AlabamaSigned\n",
              " 3      3       Korey ForemanVideo | Scouts Report  ...     91         USCSigned\n",
              " 4      4      J.T. TuimoloauVideo | Scouts Report  ...     90              List\n",
              " ..   ...                                      ...  ...    ...               ...\n",
              " 296  296       Dameon WilsonVideo | Scouts Report  ...     80    MissouriSigned\n",
              " 297  297        Greg CrippenVideo | Scouts Report  ...     80    MichiganSigned\n",
              " 298  298  Michael McLaughlinVideo | Scouts Report  ...     80       MiamiSigned\n",
              " 299  299        Connor ColbyVideo | Scouts Report  ...     80        IowaSigned\n",
              " 300  300  Lonyatta AlexanderVideo | Scouts Report  ...     80  Arizona StSigned\n",
              " \n",
              " [301 rows x 9 columns]]"
            ]
          },
          "metadata": {
            "tags": []
          },
          "execution_count": 30
        }
      ]
    },
    {
      "cell_type": "code",
      "metadata": {
        "colab": {
          "base_uri": "https://localhost:8080/",
          "height": 424
        },
        "id": "do-ZPMPvImrQ",
        "outputId": "fb7ad7ed-f721-46aa-9e3d-46d52b44845d"
      },
      "source": [
        "df = df_list[0]\r\n",
        "df.columns = df.iloc[0]\r\n",
        "df = df[1:]\r\n",
        "df"
      ],
      "execution_count": null,
      "outputs": [
        {
          "output_type": "execute_result",
          "data": {
            "text/html": [
              "<div>\n",
              "<style scoped>\n",
              "    .dataframe tbody tr th:only-of-type {\n",
              "        vertical-align: middle;\n",
              "    }\n",
              "\n",
              "    .dataframe tbody tr th {\n",
              "        vertical-align: top;\n",
              "    }\n",
              "\n",
              "    .dataframe thead th {\n",
              "        text-align: right;\n",
              "    }\n",
              "</style>\n",
              "<table border=\"1\" class=\"dataframe\">\n",
              "  <thead>\n",
              "    <tr style=\"text-align: right;\">\n",
              "      <th></th>\n",
              "      <th>RK</th>\n",
              "      <th>PLAYER</th>\n",
              "      <th>POS</th>\n",
              "      <th>HOMETOWN</th>\n",
              "      <th>HT</th>\n",
              "      <th>WT</th>\n",
              "      <th>STARS</th>\n",
              "      <th>GRADE</th>\n",
              "      <th>SCHOOL</th>\n",
              "    </tr>\n",
              "  </thead>\n",
              "  <tbody>\n",
              "    <tr>\n",
              "      <th>1</th>\n",
              "      <td>1</td>\n",
              "      <td>Jack SawyerVideo | Scouts Report</td>\n",
              "      <td>DE</td>\n",
              "      <td>Pickerington, OHPickerington North High School</td>\n",
              "      <td>6'5''</td>\n",
              "      <td>230</td>\n",
              "      <td>NaN</td>\n",
              "      <td>91</td>\n",
              "      <td>Ohio StateSigned</td>\n",
              "    </tr>\n",
              "    <tr>\n",
              "      <th>2</th>\n",
              "      <td>2</td>\n",
              "      <td>Tommy BrockermeyerVideo | Scouts Report</td>\n",
              "      <td>OT</td>\n",
              "      <td>Fort Worth, TXAll Saints Episcopal School</td>\n",
              "      <td>6'6''</td>\n",
              "      <td>280</td>\n",
              "      <td>NaN</td>\n",
              "      <td>91</td>\n",
              "      <td>AlabamaSigned</td>\n",
              "    </tr>\n",
              "    <tr>\n",
              "      <th>3</th>\n",
              "      <td>3</td>\n",
              "      <td>Korey ForemanVideo | Scouts Report</td>\n",
              "      <td>DE</td>\n",
              "      <td>Corona, CACentennial High School</td>\n",
              "      <td>6'4''</td>\n",
              "      <td>265</td>\n",
              "      <td>NaN</td>\n",
              "      <td>91</td>\n",
              "      <td>USCSigned</td>\n",
              "    </tr>\n",
              "    <tr>\n",
              "      <th>4</th>\n",
              "      <td>4</td>\n",
              "      <td>J.T. TuimoloauVideo | Scouts Report</td>\n",
              "      <td>DT</td>\n",
              "      <td>Bellevue, WAEastside Catholic High School</td>\n",
              "      <td>6'5''</td>\n",
              "      <td>280</td>\n",
              "      <td>NaN</td>\n",
              "      <td>90</td>\n",
              "      <td>List</td>\n",
              "    </tr>\n",
              "    <tr>\n",
              "      <th>5</th>\n",
              "      <td>5</td>\n",
              "      <td>J.C. LathamVideo | Scouts Report</td>\n",
              "      <td>OT</td>\n",
              "      <td>Bradenton, FLIMG Academy</td>\n",
              "      <td>6'6''</td>\n",
              "      <td>310</td>\n",
              "      <td>NaN</td>\n",
              "      <td>90</td>\n",
              "      <td>AlabamaSigned</td>\n",
              "    </tr>\n",
              "    <tr>\n",
              "      <th>...</th>\n",
              "      <td>...</td>\n",
              "      <td>...</td>\n",
              "      <td>...</td>\n",
              "      <td>...</td>\n",
              "      <td>...</td>\n",
              "      <td>...</td>\n",
              "      <td>...</td>\n",
              "      <td>...</td>\n",
              "      <td>...</td>\n",
              "    </tr>\n",
              "    <tr>\n",
              "      <th>296</th>\n",
              "      <td>296</td>\n",
              "      <td>Dameon WilsonVideo | Scouts Report</td>\n",
              "      <td>ILB</td>\n",
              "      <td>Kings Mountain, NCKings Mountain High School</td>\n",
              "      <td>6'1''</td>\n",
              "      <td>210</td>\n",
              "      <td>NaN</td>\n",
              "      <td>80</td>\n",
              "      <td>MissouriSigned</td>\n",
              "    </tr>\n",
              "    <tr>\n",
              "      <th>297</th>\n",
              "      <td>297</td>\n",
              "      <td>Greg CrippenVideo | Scouts Report</td>\n",
              "      <td>OG</td>\n",
              "      <td>Bradenton, FLIMG Academy</td>\n",
              "      <td>6'4''</td>\n",
              "      <td>270</td>\n",
              "      <td>NaN</td>\n",
              "      <td>80</td>\n",
              "      <td>MichiganSigned</td>\n",
              "    </tr>\n",
              "    <tr>\n",
              "      <th>298</th>\n",
              "      <td>298</td>\n",
              "      <td>Michael McLaughlinVideo | Scouts Report</td>\n",
              "      <td>OT</td>\n",
              "      <td>Parkland, FLM. Stoneman Douglas High School</td>\n",
              "      <td>6'7''</td>\n",
              "      <td>260</td>\n",
              "      <td>NaN</td>\n",
              "      <td>80</td>\n",
              "      <td>MiamiSigned</td>\n",
              "    </tr>\n",
              "    <tr>\n",
              "      <th>299</th>\n",
              "      <td>299</td>\n",
              "      <td>Connor ColbyVideo | Scouts Report</td>\n",
              "      <td>OG</td>\n",
              "      <td>Cedar Rapids, IAJohn F. Kennedy High School</td>\n",
              "      <td>6'5''</td>\n",
              "      <td>270</td>\n",
              "      <td>NaN</td>\n",
              "      <td>80</td>\n",
              "      <td>IowaSigned</td>\n",
              "    </tr>\n",
              "    <tr>\n",
              "      <th>300</th>\n",
              "      <td>300</td>\n",
              "      <td>Lonyatta AlexanderVideo | Scouts Report</td>\n",
              "      <td>WR</td>\n",
              "      <td>Burien, WAJohn F. Kennedy High School</td>\n",
              "      <td>6'2''</td>\n",
              "      <td>170</td>\n",
              "      <td>NaN</td>\n",
              "      <td>80</td>\n",
              "      <td>Arizona StSigned</td>\n",
              "    </tr>\n",
              "  </tbody>\n",
              "</table>\n",
              "<p>300 rows × 9 columns</p>\n",
              "</div>"
            ],
            "text/plain": [
              "0     RK                                   PLAYER  ... GRADE            SCHOOL\n",
              "1      1         Jack SawyerVideo | Scouts Report  ...    91  Ohio StateSigned\n",
              "2      2  Tommy BrockermeyerVideo | Scouts Report  ...    91     AlabamaSigned\n",
              "3      3       Korey ForemanVideo | Scouts Report  ...    91         USCSigned\n",
              "4      4      J.T. TuimoloauVideo | Scouts Report  ...    90              List\n",
              "5      5         J.C. LathamVideo | Scouts Report  ...    90     AlabamaSigned\n",
              "..   ...                                      ...  ...   ...               ...\n",
              "296  296       Dameon WilsonVideo | Scouts Report  ...    80    MissouriSigned\n",
              "297  297        Greg CrippenVideo | Scouts Report  ...    80    MichiganSigned\n",
              "298  298  Michael McLaughlinVideo | Scouts Report  ...    80       MiamiSigned\n",
              "299  299        Connor ColbyVideo | Scouts Report  ...    80        IowaSigned\n",
              "300  300  Lonyatta AlexanderVideo | Scouts Report  ...    80  Arizona StSigned\n",
              "\n",
              "[300 rows x 9 columns]"
            ]
          },
          "metadata": {
            "tags": []
          },
          "execution_count": 40
        }
      ]
    },
    {
      "cell_type": "markdown",
      "metadata": {
        "id": "ibZKIW0iWzuq"
      },
      "source": [
        "# espncricinfo"
      ]
    },
    {
      "cell_type": "code",
      "metadata": {
        "id": "XB15PfrkI0oZ"
      },
      "source": [
        "import requests\r\n",
        "import bs4\r\n",
        "\r\n",
        "url_cric = 'https://stats.espncricinfo.com/ci/engine/stats/index.html?class=3;page=1;spanmax1=1+Jan+2021;spanmin1=1+Jan+2020;spanval1=span;template=results;type=bowling'\r\n",
        "\r\n",
        "headers = {'User-Agent': 'Mozilla/5.0'}\r\n",
        "\r\n",
        "req = requests.get(url_cric,headers=headers)"
      ],
      "execution_count": 47,
      "outputs": []
    },
    {
      "cell_type": "code",
      "metadata": {
        "id": "vcf8rpxrVYwx",
        "colab": {
          "base_uri": "https://localhost:8080/"
        },
        "outputId": "7fa5e39c-2283-4729-e026-dedda327aa2b"
      },
      "source": [
        "soup = bs4.BeautifulSoup(req.text,'lxml')\r\n",
        "[column.text for column in soup.select('.black-link')]"
      ],
      "execution_count": 48,
      "outputs": [
        {
          "output_type": "execute_result",
          "data": {
            "text/plain": [
              "['Player',\n",
              " 'Mat',\n",
              " 'Inns',\n",
              " 'Overs',\n",
              " 'Mdns',\n",
              " 'Runs',\n",
              " 'Wkts',\n",
              " 'BBI',\n",
              " 'Ave',\n",
              " 'Econ',\n",
              " 'SR',\n",
              " '4',\n",
              " '5']"
            ]
          },
          "metadata": {
            "tags": []
          },
          "execution_count": 48
        }
      ]
    },
    {
      "cell_type": "markdown",
      "metadata": {
        "id": "duN8yddQXSKc"
      },
      "source": [
        "## bowling"
      ]
    },
    {
      "cell_type": "code",
      "metadata": {
        "colab": {
          "base_uri": "https://localhost:8080/"
        },
        "id": "U09-YvRYIqWp",
        "outputId": "744d28d6-e1fc-4264-fb4a-aae1caa6b2e4"
      },
      "source": [
        "import requests\r\n",
        "import bs4\r\n",
        "import pandas as pd\r\n",
        "import time\r\n",
        "import random\r\n",
        "\r\n",
        "url = 'https://stats.espncricinfo.com/ci/engine/stats/index.html?class=3;page={};spanmax1=1+Jan+2021;spanmin1=1+Jan+2020;spanval1=span;template=results;type=bowling'\r\n",
        "req = requests.get(url.format(1))\r\n",
        "soup = bs4.BeautifulSoup(req.text,'lxml')\r\n",
        "cols = [column.text for column in soup.select('.black-link')]\r\n",
        "df = pd.DataFrame(columns=cols)\r\n",
        "i = 1\r\n",
        "scraping = True\r\n",
        "while scraping:\r\n",
        "  print(f'starting {i}')\r\n",
        "  req = requests.get(url.format(i))\r\n",
        "  soup = bs4.BeautifulSoup(req.text,'lxml')\r\n",
        "  if len(soup.select('.black-link'))==0:\r\n",
        "    scraping=False\r\n",
        "    print(\"It's done!\")\r\n",
        "  else:\r\n",
        "    df = df.append(pd.DataFrame(data=[row.text.split('\\n')[1:14] for row in soup.select('.data1')],\r\n",
        "                           columns=cols))\r\n",
        "    print('Data added')\r\n",
        "    i+=1\r\n",
        "    time.sleep(random.randrange(5,10))\r\n",
        "\r\n",
        "df.info()"
      ],
      "execution_count": 39,
      "outputs": [
        {
          "output_type": "stream",
          "text": [
            "starting 1\n",
            "Data added\n",
            "starting 2\n",
            "Data added\n",
            "starting 3\n",
            "Data added\n",
            "starting 4\n",
            "Data added\n",
            "starting 5\n",
            "Data added\n",
            "starting 6\n",
            "Data added\n",
            "starting 7\n",
            "Data added\n",
            "starting 8\n",
            "Data added\n",
            "starting 9\n",
            "Data added\n",
            "starting 10\n",
            "Data added\n",
            "starting 11\n",
            "Data added\n",
            "starting 12\n",
            "It's done!\n",
            "<class 'pandas.core.frame.DataFrame'>\n",
            "Int64Index: 544 entries, 0 to 43\n",
            "Data columns (total 13 columns):\n",
            " #   Column  Non-Null Count  Dtype \n",
            "---  ------  --------------  ----- \n",
            " 0   Player  544 non-null    object\n",
            " 1   Mat     544 non-null    object\n",
            " 2   Inns    544 non-null    object\n",
            " 3   Overs   544 non-null    object\n",
            " 4   Mdns    544 non-null    object\n",
            " 5   Runs    544 non-null    object\n",
            " 6   Wkts    544 non-null    object\n",
            " 7   BBI     544 non-null    object\n",
            " 8   Ave     544 non-null    object\n",
            " 9   Econ    544 non-null    object\n",
            " 10  SR      544 non-null    object\n",
            " 11  4       544 non-null    object\n",
            " 12  5       544 non-null    object\n",
            "dtypes: object(13)\n",
            "memory usage: 59.5+ KB\n"
          ],
          "name": "stdout"
        }
      ]
    },
    {
      "cell_type": "code",
      "metadata": {
        "id": "VyGOSAraWdzB"
      },
      "source": [
        ""
      ],
      "execution_count": null,
      "outputs": []
    }
  ]
}