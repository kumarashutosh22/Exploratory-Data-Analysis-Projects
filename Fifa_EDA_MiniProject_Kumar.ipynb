{
  "nbformat": 4,
  "nbformat_minor": 0,
  "metadata": {
    "kernelspec": {
      "name": "python3",
      "display_name": "Python 3"
    },
    "language_info": {
      "codemirror_mode": {
        "name": "ipython",
        "version": 3
      },
      "file_extension": ".py",
      "mimetype": "text/x-python",
      "name": "python",
      "nbconvert_exporter": "python",
      "pygments_lexer": "ipython3",
      "version": "3.7.4"
    },
    "colab": {
      "name": "Fifa-EDA-MiniProject-Kumar.ipynb",
      "provenance": [],
      "collapsed_sections": []
    }
  },
  "cells": [
    {
      "cell_type": "markdown",
      "metadata": {
        "id": "Qmk2jlxwjn_U",
        "colab_type": "text"
      },
      "source": [
        "<span style=\"font-family: Arial; font-weight:bold;font-size:2em;color:black\">Exploratory Data Analysis – Mini Project\n",
        "\n",
        "https://www.kaggle.com/karangadiya/fifa19"
      ]
    },
    {
      "cell_type": "markdown",
      "metadata": {
        "id": "tWG4jKjgjn_a",
        "colab_type": "text"
      },
      "source": [
        "<span style=\"font-family: Arial; font-weight:bold;font-size:1.5em;color:#03a1fc\"> Importing the Libraries"
      ]
    },
    {
      "cell_type": "code",
      "metadata": {
        "ExecuteTime": {
          "end_time": "2020-02-16T10:30:08.070466Z",
          "start_time": "2020-02-16T10:30:05.658914Z"
        },
        "id": "d3SJg1-ajn_e",
        "colab_type": "code",
        "colab": {}
      },
      "source": [
        "import numpy as np\n",
        "import pandas as pd\n",
        "import matplotlib.pyplot as plt\n",
        "import seaborn as sns\n",
        "%matplotlib inline"
      ],
      "execution_count": 3,
      "outputs": []
    },
    {
      "cell_type": "markdown",
      "metadata": {
        "id": "VugQdsCujn_n",
        "colab_type": "text"
      },
      "source": [
        "<span style=\"font-family: Arial; font-weight:bold;font-size:1.5em;color:#03a1fc\">Reading the data"
      ]
    },
    {
      "cell_type": "code",
      "metadata": {
        "ExecuteTime": {
          "end_time": "2020-02-16T10:30:08.354364Z",
          "start_time": "2020-02-16T10:30:08.073076Z"
        },
        "scrolled": true,
        "id": "pzz9dEdhjn_p",
        "colab_type": "code",
        "colab": {
          "base_uri": "https://localhost:8080/",
          "height": 826
        },
        "outputId": "0704e2fe-7bea-4286-8c31-1ffa96c3b526"
      },
      "source": [
        "fifa = pd.read_csv('fifa.csv')\n",
        "fifa"
      ],
      "execution_count": 4,
      "outputs": [
        {
          "output_type": "execute_result",
          "data": {
            "text/html": [
              "<div>\n",
              "<style scoped>\n",
              "    .dataframe tbody tr th:only-of-type {\n",
              "        vertical-align: middle;\n",
              "    }\n",
              "\n",
              "    .dataframe tbody tr th {\n",
              "        vertical-align: top;\n",
              "    }\n",
              "\n",
              "    .dataframe thead th {\n",
              "        text-align: right;\n",
              "    }\n",
              "</style>\n",
              "<table border=\"1\" class=\"dataframe\">\n",
              "  <thead>\n",
              "    <tr style=\"text-align: right;\">\n",
              "      <th></th>\n",
              "      <th>Unnamed: 0</th>\n",
              "      <th>ID</th>\n",
              "      <th>Name</th>\n",
              "      <th>Age</th>\n",
              "      <th>Photo</th>\n",
              "      <th>Nationality</th>\n",
              "      <th>Flag</th>\n",
              "      <th>Overall</th>\n",
              "      <th>Potential</th>\n",
              "      <th>Club</th>\n",
              "      <th>Club Logo</th>\n",
              "      <th>Value</th>\n",
              "      <th>Wage</th>\n",
              "      <th>Special</th>\n",
              "      <th>Preferred Foot</th>\n",
              "      <th>International Reputation</th>\n",
              "      <th>Weak Foot</th>\n",
              "      <th>Skill Moves</th>\n",
              "      <th>Work Rate</th>\n",
              "      <th>Body Type</th>\n",
              "      <th>Real Face</th>\n",
              "      <th>Position</th>\n",
              "      <th>Jersey Number</th>\n",
              "      <th>Joined</th>\n",
              "      <th>Loaned From</th>\n",
              "      <th>Contract Valid Until</th>\n",
              "      <th>Height</th>\n",
              "      <th>Weight</th>\n",
              "      <th>LS</th>\n",
              "      <th>ST</th>\n",
              "      <th>RS</th>\n",
              "      <th>LW</th>\n",
              "      <th>LF</th>\n",
              "      <th>CF</th>\n",
              "      <th>RF</th>\n",
              "      <th>RW</th>\n",
              "      <th>LAM</th>\n",
              "      <th>CAM</th>\n",
              "      <th>RAM</th>\n",
              "      <th>LM</th>\n",
              "      <th>...</th>\n",
              "      <th>LB</th>\n",
              "      <th>LCB</th>\n",
              "      <th>CB</th>\n",
              "      <th>RCB</th>\n",
              "      <th>RB</th>\n",
              "      <th>Crossing</th>\n",
              "      <th>Finishing</th>\n",
              "      <th>HeadingAccuracy</th>\n",
              "      <th>ShortPassing</th>\n",
              "      <th>Volleys</th>\n",
              "      <th>Dribbling</th>\n",
              "      <th>Curve</th>\n",
              "      <th>FKAccuracy</th>\n",
              "      <th>LongPassing</th>\n",
              "      <th>BallControl</th>\n",
              "      <th>Acceleration</th>\n",
              "      <th>SprintSpeed</th>\n",
              "      <th>Agility</th>\n",
              "      <th>Reactions</th>\n",
              "      <th>Balance</th>\n",
              "      <th>ShotPower</th>\n",
              "      <th>Jumping</th>\n",
              "      <th>Stamina</th>\n",
              "      <th>Strength</th>\n",
              "      <th>LongShots</th>\n",
              "      <th>Aggression</th>\n",
              "      <th>Interceptions</th>\n",
              "      <th>Positioning</th>\n",
              "      <th>Vision</th>\n",
              "      <th>Penalties</th>\n",
              "      <th>Composure</th>\n",
              "      <th>Marking</th>\n",
              "      <th>StandingTackle</th>\n",
              "      <th>SlidingTackle</th>\n",
              "      <th>GKDiving</th>\n",
              "      <th>GKHandling</th>\n",
              "      <th>GKKicking</th>\n",
              "      <th>GKPositioning</th>\n",
              "      <th>GKReflexes</th>\n",
              "      <th>Release Clause</th>\n",
              "    </tr>\n",
              "  </thead>\n",
              "  <tbody>\n",
              "    <tr>\n",
              "      <th>0</th>\n",
              "      <td>0</td>\n",
              "      <td>158023</td>\n",
              "      <td>L. Messi</td>\n",
              "      <td>31</td>\n",
              "      <td>https://cdn.sofifa.org/players/4/19/158023.png</td>\n",
              "      <td>Argentina</td>\n",
              "      <td>https://cdn.sofifa.org/flags/52.png</td>\n",
              "      <td>94</td>\n",
              "      <td>94</td>\n",
              "      <td>FC Barcelona</td>\n",
              "      <td>https://cdn.sofifa.org/teams/2/light/241.png</td>\n",
              "      <td>€110.5M</td>\n",
              "      <td>€565K</td>\n",
              "      <td>2202</td>\n",
              "      <td>Left</td>\n",
              "      <td>5.0</td>\n",
              "      <td>4.0</td>\n",
              "      <td>4.0</td>\n",
              "      <td>Medium/ Medium</td>\n",
              "      <td>Messi</td>\n",
              "      <td>Yes</td>\n",
              "      <td>RF</td>\n",
              "      <td>10.0</td>\n",
              "      <td>Jul 1, 2004</td>\n",
              "      <td>NaN</td>\n",
              "      <td>2021</td>\n",
              "      <td>5'7</td>\n",
              "      <td>159lbs</td>\n",
              "      <td>88+2</td>\n",
              "      <td>88+2</td>\n",
              "      <td>88+2</td>\n",
              "      <td>92+2</td>\n",
              "      <td>93+2</td>\n",
              "      <td>93+2</td>\n",
              "      <td>93+2</td>\n",
              "      <td>92+2</td>\n",
              "      <td>93+2</td>\n",
              "      <td>93+2</td>\n",
              "      <td>93+2</td>\n",
              "      <td>91+2</td>\n",
              "      <td>...</td>\n",
              "      <td>59+2</td>\n",
              "      <td>47+2</td>\n",
              "      <td>47+2</td>\n",
              "      <td>47+2</td>\n",
              "      <td>59+2</td>\n",
              "      <td>84.0</td>\n",
              "      <td>95.0</td>\n",
              "      <td>70.0</td>\n",
              "      <td>90.0</td>\n",
              "      <td>86.0</td>\n",
              "      <td>97.0</td>\n",
              "      <td>93.0</td>\n",
              "      <td>94.0</td>\n",
              "      <td>87.0</td>\n",
              "      <td>96.0</td>\n",
              "      <td>91.0</td>\n",
              "      <td>86.0</td>\n",
              "      <td>91.0</td>\n",
              "      <td>95.0</td>\n",
              "      <td>95.0</td>\n",
              "      <td>85.0</td>\n",
              "      <td>68.0</td>\n",
              "      <td>72.0</td>\n",
              "      <td>59.0</td>\n",
              "      <td>94.0</td>\n",
              "      <td>48.0</td>\n",
              "      <td>22.0</td>\n",
              "      <td>94.0</td>\n",
              "      <td>94.0</td>\n",
              "      <td>75.0</td>\n",
              "      <td>96.0</td>\n",
              "      <td>33.0</td>\n",
              "      <td>28.0</td>\n",
              "      <td>26.0</td>\n",
              "      <td>6.0</td>\n",
              "      <td>11.0</td>\n",
              "      <td>15.0</td>\n",
              "      <td>14.0</td>\n",
              "      <td>8.0</td>\n",
              "      <td>€226.5M</td>\n",
              "    </tr>\n",
              "    <tr>\n",
              "      <th>1</th>\n",
              "      <td>1</td>\n",
              "      <td>20801</td>\n",
              "      <td>Cristiano Ronaldo</td>\n",
              "      <td>33</td>\n",
              "      <td>https://cdn.sofifa.org/players/4/19/20801.png</td>\n",
              "      <td>Portugal</td>\n",
              "      <td>https://cdn.sofifa.org/flags/38.png</td>\n",
              "      <td>94</td>\n",
              "      <td>94</td>\n",
              "      <td>Juventus</td>\n",
              "      <td>https://cdn.sofifa.org/teams/2/light/45.png</td>\n",
              "      <td>€77M</td>\n",
              "      <td>€405K</td>\n",
              "      <td>2228</td>\n",
              "      <td>Right</td>\n",
              "      <td>5.0</td>\n",
              "      <td>4.0</td>\n",
              "      <td>5.0</td>\n",
              "      <td>High/ Low</td>\n",
              "      <td>C. Ronaldo</td>\n",
              "      <td>Yes</td>\n",
              "      <td>ST</td>\n",
              "      <td>7.0</td>\n",
              "      <td>Jul 10, 2018</td>\n",
              "      <td>NaN</td>\n",
              "      <td>2022</td>\n",
              "      <td>6'2</td>\n",
              "      <td>183lbs</td>\n",
              "      <td>91+3</td>\n",
              "      <td>91+3</td>\n",
              "      <td>91+3</td>\n",
              "      <td>89+3</td>\n",
              "      <td>90+3</td>\n",
              "      <td>90+3</td>\n",
              "      <td>90+3</td>\n",
              "      <td>89+3</td>\n",
              "      <td>88+3</td>\n",
              "      <td>88+3</td>\n",
              "      <td>88+3</td>\n",
              "      <td>88+3</td>\n",
              "      <td>...</td>\n",
              "      <td>61+3</td>\n",
              "      <td>53+3</td>\n",
              "      <td>53+3</td>\n",
              "      <td>53+3</td>\n",
              "      <td>61+3</td>\n",
              "      <td>84.0</td>\n",
              "      <td>94.0</td>\n",
              "      <td>89.0</td>\n",
              "      <td>81.0</td>\n",
              "      <td>87.0</td>\n",
              "      <td>88.0</td>\n",
              "      <td>81.0</td>\n",
              "      <td>76.0</td>\n",
              "      <td>77.0</td>\n",
              "      <td>94.0</td>\n",
              "      <td>89.0</td>\n",
              "      <td>91.0</td>\n",
              "      <td>87.0</td>\n",
              "      <td>96.0</td>\n",
              "      <td>70.0</td>\n",
              "      <td>95.0</td>\n",
              "      <td>95.0</td>\n",
              "      <td>88.0</td>\n",
              "      <td>79.0</td>\n",
              "      <td>93.0</td>\n",
              "      <td>63.0</td>\n",
              "      <td>29.0</td>\n",
              "      <td>95.0</td>\n",
              "      <td>82.0</td>\n",
              "      <td>85.0</td>\n",
              "      <td>95.0</td>\n",
              "      <td>28.0</td>\n",
              "      <td>31.0</td>\n",
              "      <td>23.0</td>\n",
              "      <td>7.0</td>\n",
              "      <td>11.0</td>\n",
              "      <td>15.0</td>\n",
              "      <td>14.0</td>\n",
              "      <td>11.0</td>\n",
              "      <td>€127.1M</td>\n",
              "    </tr>\n",
              "    <tr>\n",
              "      <th>2</th>\n",
              "      <td>2</td>\n",
              "      <td>190871</td>\n",
              "      <td>Neymar Jr</td>\n",
              "      <td>26</td>\n",
              "      <td>https://cdn.sofifa.org/players/4/19/190871.png</td>\n",
              "      <td>Brazil</td>\n",
              "      <td>https://cdn.sofifa.org/flags/54.png</td>\n",
              "      <td>92</td>\n",
              "      <td>93</td>\n",
              "      <td>Paris Saint-Germain</td>\n",
              "      <td>https://cdn.sofifa.org/teams/2/light/73.png</td>\n",
              "      <td>€118.5M</td>\n",
              "      <td>€290K</td>\n",
              "      <td>2143</td>\n",
              "      <td>Right</td>\n",
              "      <td>5.0</td>\n",
              "      <td>5.0</td>\n",
              "      <td>5.0</td>\n",
              "      <td>High/ Medium</td>\n",
              "      <td>Neymar</td>\n",
              "      <td>Yes</td>\n",
              "      <td>LW</td>\n",
              "      <td>10.0</td>\n",
              "      <td>Aug 3, 2017</td>\n",
              "      <td>NaN</td>\n",
              "      <td>2022</td>\n",
              "      <td>5'9</td>\n",
              "      <td>150lbs</td>\n",
              "      <td>84+3</td>\n",
              "      <td>84+3</td>\n",
              "      <td>84+3</td>\n",
              "      <td>89+3</td>\n",
              "      <td>89+3</td>\n",
              "      <td>89+3</td>\n",
              "      <td>89+3</td>\n",
              "      <td>89+3</td>\n",
              "      <td>89+3</td>\n",
              "      <td>89+3</td>\n",
              "      <td>89+3</td>\n",
              "      <td>88+3</td>\n",
              "      <td>...</td>\n",
              "      <td>60+3</td>\n",
              "      <td>47+3</td>\n",
              "      <td>47+3</td>\n",
              "      <td>47+3</td>\n",
              "      <td>60+3</td>\n",
              "      <td>79.0</td>\n",
              "      <td>87.0</td>\n",
              "      <td>62.0</td>\n",
              "      <td>84.0</td>\n",
              "      <td>84.0</td>\n",
              "      <td>96.0</td>\n",
              "      <td>88.0</td>\n",
              "      <td>87.0</td>\n",
              "      <td>78.0</td>\n",
              "      <td>95.0</td>\n",
              "      <td>94.0</td>\n",
              "      <td>90.0</td>\n",
              "      <td>96.0</td>\n",
              "      <td>94.0</td>\n",
              "      <td>84.0</td>\n",
              "      <td>80.0</td>\n",
              "      <td>61.0</td>\n",
              "      <td>81.0</td>\n",
              "      <td>49.0</td>\n",
              "      <td>82.0</td>\n",
              "      <td>56.0</td>\n",
              "      <td>36.0</td>\n",
              "      <td>89.0</td>\n",
              "      <td>87.0</td>\n",
              "      <td>81.0</td>\n",
              "      <td>94.0</td>\n",
              "      <td>27.0</td>\n",
              "      <td>24.0</td>\n",
              "      <td>33.0</td>\n",
              "      <td>9.0</td>\n",
              "      <td>9.0</td>\n",
              "      <td>15.0</td>\n",
              "      <td>15.0</td>\n",
              "      <td>11.0</td>\n",
              "      <td>€228.1M</td>\n",
              "    </tr>\n",
              "    <tr>\n",
              "      <th>3</th>\n",
              "      <td>3</td>\n",
              "      <td>193080</td>\n",
              "      <td>De Gea</td>\n",
              "      <td>27</td>\n",
              "      <td>https://cdn.sofifa.org/players/4/19/193080.png</td>\n",
              "      <td>Spain</td>\n",
              "      <td>https://cdn.sofifa.org/flags/45.png</td>\n",
              "      <td>91</td>\n",
              "      <td>93</td>\n",
              "      <td>Manchester United</td>\n",
              "      <td>https://cdn.sofifa.org/teams/2/light/11.png</td>\n",
              "      <td>€72M</td>\n",
              "      <td>€260K</td>\n",
              "      <td>1471</td>\n",
              "      <td>Right</td>\n",
              "      <td>4.0</td>\n",
              "      <td>3.0</td>\n",
              "      <td>1.0</td>\n",
              "      <td>Medium/ Medium</td>\n",
              "      <td>Lean</td>\n",
              "      <td>Yes</td>\n",
              "      <td>GK</td>\n",
              "      <td>1.0</td>\n",
              "      <td>Jul 1, 2011</td>\n",
              "      <td>NaN</td>\n",
              "      <td>2020</td>\n",
              "      <td>6'4</td>\n",
              "      <td>168lbs</td>\n",
              "      <td>NaN</td>\n",
              "      <td>NaN</td>\n",
              "      <td>NaN</td>\n",
              "      <td>NaN</td>\n",
              "      <td>NaN</td>\n",
              "      <td>NaN</td>\n",
              "      <td>NaN</td>\n",
              "      <td>NaN</td>\n",
              "      <td>NaN</td>\n",
              "      <td>NaN</td>\n",
              "      <td>NaN</td>\n",
              "      <td>NaN</td>\n",
              "      <td>...</td>\n",
              "      <td>NaN</td>\n",
              "      <td>NaN</td>\n",
              "      <td>NaN</td>\n",
              "      <td>NaN</td>\n",
              "      <td>NaN</td>\n",
              "      <td>17.0</td>\n",
              "      <td>13.0</td>\n",
              "      <td>21.0</td>\n",
              "      <td>50.0</td>\n",
              "      <td>13.0</td>\n",
              "      <td>18.0</td>\n",
              "      <td>21.0</td>\n",
              "      <td>19.0</td>\n",
              "      <td>51.0</td>\n",
              "      <td>42.0</td>\n",
              "      <td>57.0</td>\n",
              "      <td>58.0</td>\n",
              "      <td>60.0</td>\n",
              "      <td>90.0</td>\n",
              "      <td>43.0</td>\n",
              "      <td>31.0</td>\n",
              "      <td>67.0</td>\n",
              "      <td>43.0</td>\n",
              "      <td>64.0</td>\n",
              "      <td>12.0</td>\n",
              "      <td>38.0</td>\n",
              "      <td>30.0</td>\n",
              "      <td>12.0</td>\n",
              "      <td>68.0</td>\n",
              "      <td>40.0</td>\n",
              "      <td>68.0</td>\n",
              "      <td>15.0</td>\n",
              "      <td>21.0</td>\n",
              "      <td>13.0</td>\n",
              "      <td>90.0</td>\n",
              "      <td>85.0</td>\n",
              "      <td>87.0</td>\n",
              "      <td>88.0</td>\n",
              "      <td>94.0</td>\n",
              "      <td>€138.6M</td>\n",
              "    </tr>\n",
              "    <tr>\n",
              "      <th>4</th>\n",
              "      <td>4</td>\n",
              "      <td>192985</td>\n",
              "      <td>K. De Bruyne</td>\n",
              "      <td>27</td>\n",
              "      <td>https://cdn.sofifa.org/players/4/19/192985.png</td>\n",
              "      <td>Belgium</td>\n",
              "      <td>https://cdn.sofifa.org/flags/7.png</td>\n",
              "      <td>91</td>\n",
              "      <td>92</td>\n",
              "      <td>Manchester City</td>\n",
              "      <td>https://cdn.sofifa.org/teams/2/light/10.png</td>\n",
              "      <td>€102M</td>\n",
              "      <td>€355K</td>\n",
              "      <td>2281</td>\n",
              "      <td>Right</td>\n",
              "      <td>4.0</td>\n",
              "      <td>5.0</td>\n",
              "      <td>4.0</td>\n",
              "      <td>High/ High</td>\n",
              "      <td>Normal</td>\n",
              "      <td>Yes</td>\n",
              "      <td>RCM</td>\n",
              "      <td>7.0</td>\n",
              "      <td>Aug 30, 2015</td>\n",
              "      <td>NaN</td>\n",
              "      <td>2023</td>\n",
              "      <td>5'11</td>\n",
              "      <td>154lbs</td>\n",
              "      <td>82+3</td>\n",
              "      <td>82+3</td>\n",
              "      <td>82+3</td>\n",
              "      <td>87+3</td>\n",
              "      <td>87+3</td>\n",
              "      <td>87+3</td>\n",
              "      <td>87+3</td>\n",
              "      <td>87+3</td>\n",
              "      <td>88+3</td>\n",
              "      <td>88+3</td>\n",
              "      <td>88+3</td>\n",
              "      <td>88+3</td>\n",
              "      <td>...</td>\n",
              "      <td>73+3</td>\n",
              "      <td>66+3</td>\n",
              "      <td>66+3</td>\n",
              "      <td>66+3</td>\n",
              "      <td>73+3</td>\n",
              "      <td>93.0</td>\n",
              "      <td>82.0</td>\n",
              "      <td>55.0</td>\n",
              "      <td>92.0</td>\n",
              "      <td>82.0</td>\n",
              "      <td>86.0</td>\n",
              "      <td>85.0</td>\n",
              "      <td>83.0</td>\n",
              "      <td>91.0</td>\n",
              "      <td>91.0</td>\n",
              "      <td>78.0</td>\n",
              "      <td>76.0</td>\n",
              "      <td>79.0</td>\n",
              "      <td>91.0</td>\n",
              "      <td>77.0</td>\n",
              "      <td>91.0</td>\n",
              "      <td>63.0</td>\n",
              "      <td>90.0</td>\n",
              "      <td>75.0</td>\n",
              "      <td>91.0</td>\n",
              "      <td>76.0</td>\n",
              "      <td>61.0</td>\n",
              "      <td>87.0</td>\n",
              "      <td>94.0</td>\n",
              "      <td>79.0</td>\n",
              "      <td>88.0</td>\n",
              "      <td>68.0</td>\n",
              "      <td>58.0</td>\n",
              "      <td>51.0</td>\n",
              "      <td>15.0</td>\n",
              "      <td>13.0</td>\n",
              "      <td>5.0</td>\n",
              "      <td>10.0</td>\n",
              "      <td>13.0</td>\n",
              "      <td>€196.4M</td>\n",
              "    </tr>\n",
              "    <tr>\n",
              "      <th>...</th>\n",
              "      <td>...</td>\n",
              "      <td>...</td>\n",
              "      <td>...</td>\n",
              "      <td>...</td>\n",
              "      <td>...</td>\n",
              "      <td>...</td>\n",
              "      <td>...</td>\n",
              "      <td>...</td>\n",
              "      <td>...</td>\n",
              "      <td>...</td>\n",
              "      <td>...</td>\n",
              "      <td>...</td>\n",
              "      <td>...</td>\n",
              "      <td>...</td>\n",
              "      <td>...</td>\n",
              "      <td>...</td>\n",
              "      <td>...</td>\n",
              "      <td>...</td>\n",
              "      <td>...</td>\n",
              "      <td>...</td>\n",
              "      <td>...</td>\n",
              "      <td>...</td>\n",
              "      <td>...</td>\n",
              "      <td>...</td>\n",
              "      <td>...</td>\n",
              "      <td>...</td>\n",
              "      <td>...</td>\n",
              "      <td>...</td>\n",
              "      <td>...</td>\n",
              "      <td>...</td>\n",
              "      <td>...</td>\n",
              "      <td>...</td>\n",
              "      <td>...</td>\n",
              "      <td>...</td>\n",
              "      <td>...</td>\n",
              "      <td>...</td>\n",
              "      <td>...</td>\n",
              "      <td>...</td>\n",
              "      <td>...</td>\n",
              "      <td>...</td>\n",
              "      <td>...</td>\n",
              "      <td>...</td>\n",
              "      <td>...</td>\n",
              "      <td>...</td>\n",
              "      <td>...</td>\n",
              "      <td>...</td>\n",
              "      <td>...</td>\n",
              "      <td>...</td>\n",
              "      <td>...</td>\n",
              "      <td>...</td>\n",
              "      <td>...</td>\n",
              "      <td>...</td>\n",
              "      <td>...</td>\n",
              "      <td>...</td>\n",
              "      <td>...</td>\n",
              "      <td>...</td>\n",
              "      <td>...</td>\n",
              "      <td>...</td>\n",
              "      <td>...</td>\n",
              "      <td>...</td>\n",
              "      <td>...</td>\n",
              "      <td>...</td>\n",
              "      <td>...</td>\n",
              "      <td>...</td>\n",
              "      <td>...</td>\n",
              "      <td>...</td>\n",
              "      <td>...</td>\n",
              "      <td>...</td>\n",
              "      <td>...</td>\n",
              "      <td>...</td>\n",
              "      <td>...</td>\n",
              "      <td>...</td>\n",
              "      <td>...</td>\n",
              "      <td>...</td>\n",
              "      <td>...</td>\n",
              "      <td>...</td>\n",
              "      <td>...</td>\n",
              "      <td>...</td>\n",
              "      <td>...</td>\n",
              "      <td>...</td>\n",
              "      <td>...</td>\n",
              "    </tr>\n",
              "    <tr>\n",
              "      <th>18202</th>\n",
              "      <td>18202</td>\n",
              "      <td>238813</td>\n",
              "      <td>J. Lundstram</td>\n",
              "      <td>19</td>\n",
              "      <td>https://cdn.sofifa.org/players/4/19/238813.png</td>\n",
              "      <td>England</td>\n",
              "      <td>https://cdn.sofifa.org/flags/14.png</td>\n",
              "      <td>47</td>\n",
              "      <td>65</td>\n",
              "      <td>Crewe Alexandra</td>\n",
              "      <td>https://cdn.sofifa.org/teams/2/light/121.png</td>\n",
              "      <td>€60K</td>\n",
              "      <td>€1K</td>\n",
              "      <td>1307</td>\n",
              "      <td>Right</td>\n",
              "      <td>1.0</td>\n",
              "      <td>2.0</td>\n",
              "      <td>2.0</td>\n",
              "      <td>Medium/ Medium</td>\n",
              "      <td>Lean</td>\n",
              "      <td>No</td>\n",
              "      <td>CM</td>\n",
              "      <td>22.0</td>\n",
              "      <td>May 3, 2017</td>\n",
              "      <td>NaN</td>\n",
              "      <td>2019</td>\n",
              "      <td>5'9</td>\n",
              "      <td>134lbs</td>\n",
              "      <td>42+2</td>\n",
              "      <td>42+2</td>\n",
              "      <td>42+2</td>\n",
              "      <td>44+2</td>\n",
              "      <td>44+2</td>\n",
              "      <td>44+2</td>\n",
              "      <td>44+2</td>\n",
              "      <td>44+2</td>\n",
              "      <td>45+2</td>\n",
              "      <td>45+2</td>\n",
              "      <td>45+2</td>\n",
              "      <td>44+2</td>\n",
              "      <td>...</td>\n",
              "      <td>45+2</td>\n",
              "      <td>45+2</td>\n",
              "      <td>45+2</td>\n",
              "      <td>45+2</td>\n",
              "      <td>45+2</td>\n",
              "      <td>34.0</td>\n",
              "      <td>38.0</td>\n",
              "      <td>40.0</td>\n",
              "      <td>49.0</td>\n",
              "      <td>25.0</td>\n",
              "      <td>42.0</td>\n",
              "      <td>30.0</td>\n",
              "      <td>34.0</td>\n",
              "      <td>45.0</td>\n",
              "      <td>43.0</td>\n",
              "      <td>54.0</td>\n",
              "      <td>57.0</td>\n",
              "      <td>60.0</td>\n",
              "      <td>49.0</td>\n",
              "      <td>76.0</td>\n",
              "      <td>43.0</td>\n",
              "      <td>55.0</td>\n",
              "      <td>40.0</td>\n",
              "      <td>47.0</td>\n",
              "      <td>38.0</td>\n",
              "      <td>46.0</td>\n",
              "      <td>46.0</td>\n",
              "      <td>39.0</td>\n",
              "      <td>52.0</td>\n",
              "      <td>43.0</td>\n",
              "      <td>45.0</td>\n",
              "      <td>40.0</td>\n",
              "      <td>48.0</td>\n",
              "      <td>47.0</td>\n",
              "      <td>10.0</td>\n",
              "      <td>13.0</td>\n",
              "      <td>7.0</td>\n",
              "      <td>8.0</td>\n",
              "      <td>9.0</td>\n",
              "      <td>€143K</td>\n",
              "    </tr>\n",
              "    <tr>\n",
              "      <th>18203</th>\n",
              "      <td>18203</td>\n",
              "      <td>243165</td>\n",
              "      <td>N. Christoffersson</td>\n",
              "      <td>19</td>\n",
              "      <td>https://cdn.sofifa.org/players/4/19/243165.png</td>\n",
              "      <td>Sweden</td>\n",
              "      <td>https://cdn.sofifa.org/flags/46.png</td>\n",
              "      <td>47</td>\n",
              "      <td>63</td>\n",
              "      <td>Trelleborgs FF</td>\n",
              "      <td>https://cdn.sofifa.org/teams/2/light/703.png</td>\n",
              "      <td>€60K</td>\n",
              "      <td>€1K</td>\n",
              "      <td>1098</td>\n",
              "      <td>Right</td>\n",
              "      <td>1.0</td>\n",
              "      <td>2.0</td>\n",
              "      <td>2.0</td>\n",
              "      <td>Medium/ Medium</td>\n",
              "      <td>Normal</td>\n",
              "      <td>No</td>\n",
              "      <td>ST</td>\n",
              "      <td>21.0</td>\n",
              "      <td>Mar 19, 2018</td>\n",
              "      <td>NaN</td>\n",
              "      <td>2020</td>\n",
              "      <td>6'3</td>\n",
              "      <td>170lbs</td>\n",
              "      <td>45+2</td>\n",
              "      <td>45+2</td>\n",
              "      <td>45+2</td>\n",
              "      <td>39+2</td>\n",
              "      <td>42+2</td>\n",
              "      <td>42+2</td>\n",
              "      <td>42+2</td>\n",
              "      <td>39+2</td>\n",
              "      <td>40+2</td>\n",
              "      <td>40+2</td>\n",
              "      <td>40+2</td>\n",
              "      <td>38+2</td>\n",
              "      <td>...</td>\n",
              "      <td>29+2</td>\n",
              "      <td>32+2</td>\n",
              "      <td>32+2</td>\n",
              "      <td>32+2</td>\n",
              "      <td>29+2</td>\n",
              "      <td>23.0</td>\n",
              "      <td>52.0</td>\n",
              "      <td>52.0</td>\n",
              "      <td>43.0</td>\n",
              "      <td>36.0</td>\n",
              "      <td>39.0</td>\n",
              "      <td>32.0</td>\n",
              "      <td>20.0</td>\n",
              "      <td>25.0</td>\n",
              "      <td>40.0</td>\n",
              "      <td>41.0</td>\n",
              "      <td>39.0</td>\n",
              "      <td>38.0</td>\n",
              "      <td>40.0</td>\n",
              "      <td>52.0</td>\n",
              "      <td>41.0</td>\n",
              "      <td>47.0</td>\n",
              "      <td>43.0</td>\n",
              "      <td>67.0</td>\n",
              "      <td>42.0</td>\n",
              "      <td>47.0</td>\n",
              "      <td>16.0</td>\n",
              "      <td>46.0</td>\n",
              "      <td>33.0</td>\n",
              "      <td>43.0</td>\n",
              "      <td>42.0</td>\n",
              "      <td>22.0</td>\n",
              "      <td>15.0</td>\n",
              "      <td>19.0</td>\n",
              "      <td>10.0</td>\n",
              "      <td>9.0</td>\n",
              "      <td>9.0</td>\n",
              "      <td>5.0</td>\n",
              "      <td>12.0</td>\n",
              "      <td>€113K</td>\n",
              "    </tr>\n",
              "    <tr>\n",
              "      <th>18204</th>\n",
              "      <td>18204</td>\n",
              "      <td>241638</td>\n",
              "      <td>B. Worman</td>\n",
              "      <td>16</td>\n",
              "      <td>https://cdn.sofifa.org/players/4/19/241638.png</td>\n",
              "      <td>England</td>\n",
              "      <td>https://cdn.sofifa.org/flags/14.png</td>\n",
              "      <td>47</td>\n",
              "      <td>67</td>\n",
              "      <td>Cambridge United</td>\n",
              "      <td>https://cdn.sofifa.org/teams/2/light/1944.png</td>\n",
              "      <td>€60K</td>\n",
              "      <td>€1K</td>\n",
              "      <td>1189</td>\n",
              "      <td>Right</td>\n",
              "      <td>1.0</td>\n",
              "      <td>3.0</td>\n",
              "      <td>2.0</td>\n",
              "      <td>Medium/ Medium</td>\n",
              "      <td>Normal</td>\n",
              "      <td>No</td>\n",
              "      <td>ST</td>\n",
              "      <td>33.0</td>\n",
              "      <td>Jul 1, 2017</td>\n",
              "      <td>NaN</td>\n",
              "      <td>2021</td>\n",
              "      <td>5'8</td>\n",
              "      <td>148lbs</td>\n",
              "      <td>45+2</td>\n",
              "      <td>45+2</td>\n",
              "      <td>45+2</td>\n",
              "      <td>45+2</td>\n",
              "      <td>46+2</td>\n",
              "      <td>46+2</td>\n",
              "      <td>46+2</td>\n",
              "      <td>45+2</td>\n",
              "      <td>44+2</td>\n",
              "      <td>44+2</td>\n",
              "      <td>44+2</td>\n",
              "      <td>44+2</td>\n",
              "      <td>...</td>\n",
              "      <td>33+2</td>\n",
              "      <td>28+2</td>\n",
              "      <td>28+2</td>\n",
              "      <td>28+2</td>\n",
              "      <td>33+2</td>\n",
              "      <td>25.0</td>\n",
              "      <td>40.0</td>\n",
              "      <td>46.0</td>\n",
              "      <td>38.0</td>\n",
              "      <td>38.0</td>\n",
              "      <td>45.0</td>\n",
              "      <td>38.0</td>\n",
              "      <td>27.0</td>\n",
              "      <td>28.0</td>\n",
              "      <td>44.0</td>\n",
              "      <td>70.0</td>\n",
              "      <td>69.0</td>\n",
              "      <td>50.0</td>\n",
              "      <td>47.0</td>\n",
              "      <td>58.0</td>\n",
              "      <td>45.0</td>\n",
              "      <td>60.0</td>\n",
              "      <td>55.0</td>\n",
              "      <td>32.0</td>\n",
              "      <td>45.0</td>\n",
              "      <td>32.0</td>\n",
              "      <td>15.0</td>\n",
              "      <td>48.0</td>\n",
              "      <td>43.0</td>\n",
              "      <td>55.0</td>\n",
              "      <td>41.0</td>\n",
              "      <td>32.0</td>\n",
              "      <td>13.0</td>\n",
              "      <td>11.0</td>\n",
              "      <td>6.0</td>\n",
              "      <td>5.0</td>\n",
              "      <td>10.0</td>\n",
              "      <td>6.0</td>\n",
              "      <td>13.0</td>\n",
              "      <td>€165K</td>\n",
              "    </tr>\n",
              "    <tr>\n",
              "      <th>18205</th>\n",
              "      <td>18205</td>\n",
              "      <td>246268</td>\n",
              "      <td>D. Walker-Rice</td>\n",
              "      <td>17</td>\n",
              "      <td>https://cdn.sofifa.org/players/4/19/246268.png</td>\n",
              "      <td>England</td>\n",
              "      <td>https://cdn.sofifa.org/flags/14.png</td>\n",
              "      <td>47</td>\n",
              "      <td>66</td>\n",
              "      <td>Tranmere Rovers</td>\n",
              "      <td>https://cdn.sofifa.org/teams/2/light/15048.png</td>\n",
              "      <td>€60K</td>\n",
              "      <td>€1K</td>\n",
              "      <td>1228</td>\n",
              "      <td>Right</td>\n",
              "      <td>1.0</td>\n",
              "      <td>3.0</td>\n",
              "      <td>2.0</td>\n",
              "      <td>Medium/ Medium</td>\n",
              "      <td>Lean</td>\n",
              "      <td>No</td>\n",
              "      <td>RW</td>\n",
              "      <td>34.0</td>\n",
              "      <td>Apr 24, 2018</td>\n",
              "      <td>NaN</td>\n",
              "      <td>2019</td>\n",
              "      <td>5'10</td>\n",
              "      <td>154lbs</td>\n",
              "      <td>47+2</td>\n",
              "      <td>47+2</td>\n",
              "      <td>47+2</td>\n",
              "      <td>47+2</td>\n",
              "      <td>46+2</td>\n",
              "      <td>46+2</td>\n",
              "      <td>46+2</td>\n",
              "      <td>47+2</td>\n",
              "      <td>45+2</td>\n",
              "      <td>45+2</td>\n",
              "      <td>45+2</td>\n",
              "      <td>46+2</td>\n",
              "      <td>...</td>\n",
              "      <td>35+2</td>\n",
              "      <td>31+2</td>\n",
              "      <td>31+2</td>\n",
              "      <td>31+2</td>\n",
              "      <td>35+2</td>\n",
              "      <td>44.0</td>\n",
              "      <td>50.0</td>\n",
              "      <td>39.0</td>\n",
              "      <td>42.0</td>\n",
              "      <td>40.0</td>\n",
              "      <td>51.0</td>\n",
              "      <td>34.0</td>\n",
              "      <td>32.0</td>\n",
              "      <td>32.0</td>\n",
              "      <td>52.0</td>\n",
              "      <td>61.0</td>\n",
              "      <td>60.0</td>\n",
              "      <td>52.0</td>\n",
              "      <td>21.0</td>\n",
              "      <td>71.0</td>\n",
              "      <td>64.0</td>\n",
              "      <td>42.0</td>\n",
              "      <td>40.0</td>\n",
              "      <td>48.0</td>\n",
              "      <td>34.0</td>\n",
              "      <td>33.0</td>\n",
              "      <td>22.0</td>\n",
              "      <td>44.0</td>\n",
              "      <td>47.0</td>\n",
              "      <td>50.0</td>\n",
              "      <td>46.0</td>\n",
              "      <td>20.0</td>\n",
              "      <td>25.0</td>\n",
              "      <td>27.0</td>\n",
              "      <td>14.0</td>\n",
              "      <td>6.0</td>\n",
              "      <td>14.0</td>\n",
              "      <td>8.0</td>\n",
              "      <td>9.0</td>\n",
              "      <td>€143K</td>\n",
              "    </tr>\n",
              "    <tr>\n",
              "      <th>18206</th>\n",
              "      <td>18206</td>\n",
              "      <td>246269</td>\n",
              "      <td>G. Nugent</td>\n",
              "      <td>16</td>\n",
              "      <td>https://cdn.sofifa.org/players/4/19/246269.png</td>\n",
              "      <td>England</td>\n",
              "      <td>https://cdn.sofifa.org/flags/14.png</td>\n",
              "      <td>46</td>\n",
              "      <td>66</td>\n",
              "      <td>Tranmere Rovers</td>\n",
              "      <td>https://cdn.sofifa.org/teams/2/light/15048.png</td>\n",
              "      <td>€60K</td>\n",
              "      <td>€1K</td>\n",
              "      <td>1321</td>\n",
              "      <td>Right</td>\n",
              "      <td>1.0</td>\n",
              "      <td>3.0</td>\n",
              "      <td>2.0</td>\n",
              "      <td>Medium/ Medium</td>\n",
              "      <td>Lean</td>\n",
              "      <td>No</td>\n",
              "      <td>CM</td>\n",
              "      <td>33.0</td>\n",
              "      <td>Oct 30, 2018</td>\n",
              "      <td>NaN</td>\n",
              "      <td>2019</td>\n",
              "      <td>5'10</td>\n",
              "      <td>176lbs</td>\n",
              "      <td>43+2</td>\n",
              "      <td>43+2</td>\n",
              "      <td>43+2</td>\n",
              "      <td>45+2</td>\n",
              "      <td>44+2</td>\n",
              "      <td>44+2</td>\n",
              "      <td>44+2</td>\n",
              "      <td>45+2</td>\n",
              "      <td>45+2</td>\n",
              "      <td>45+2</td>\n",
              "      <td>45+2</td>\n",
              "      <td>46+2</td>\n",
              "      <td>...</td>\n",
              "      <td>46+2</td>\n",
              "      <td>47+2</td>\n",
              "      <td>47+2</td>\n",
              "      <td>47+2</td>\n",
              "      <td>46+2</td>\n",
              "      <td>41.0</td>\n",
              "      <td>34.0</td>\n",
              "      <td>46.0</td>\n",
              "      <td>48.0</td>\n",
              "      <td>30.0</td>\n",
              "      <td>43.0</td>\n",
              "      <td>40.0</td>\n",
              "      <td>34.0</td>\n",
              "      <td>44.0</td>\n",
              "      <td>51.0</td>\n",
              "      <td>57.0</td>\n",
              "      <td>55.0</td>\n",
              "      <td>55.0</td>\n",
              "      <td>51.0</td>\n",
              "      <td>63.0</td>\n",
              "      <td>43.0</td>\n",
              "      <td>62.0</td>\n",
              "      <td>47.0</td>\n",
              "      <td>60.0</td>\n",
              "      <td>32.0</td>\n",
              "      <td>56.0</td>\n",
              "      <td>42.0</td>\n",
              "      <td>34.0</td>\n",
              "      <td>49.0</td>\n",
              "      <td>33.0</td>\n",
              "      <td>43.0</td>\n",
              "      <td>40.0</td>\n",
              "      <td>43.0</td>\n",
              "      <td>50.0</td>\n",
              "      <td>10.0</td>\n",
              "      <td>15.0</td>\n",
              "      <td>9.0</td>\n",
              "      <td>12.0</td>\n",
              "      <td>9.0</td>\n",
              "      <td>€165K</td>\n",
              "    </tr>\n",
              "  </tbody>\n",
              "</table>\n",
              "<p>18207 rows × 89 columns</p>\n",
              "</div>"
            ],
            "text/plain": [
              "       Unnamed: 0      ID  ... GKReflexes  Release Clause\n",
              "0               0  158023  ...        8.0         €226.5M\n",
              "1               1   20801  ...       11.0         €127.1M\n",
              "2               2  190871  ...       11.0         €228.1M\n",
              "3               3  193080  ...       94.0         €138.6M\n",
              "4               4  192985  ...       13.0         €196.4M\n",
              "...           ...     ...  ...        ...             ...\n",
              "18202       18202  238813  ...        9.0           €143K\n",
              "18203       18203  243165  ...       12.0           €113K\n",
              "18204       18204  241638  ...       13.0           €165K\n",
              "18205       18205  246268  ...        9.0           €143K\n",
              "18206       18206  246269  ...        9.0           €165K\n",
              "\n",
              "[18207 rows x 89 columns]"
            ]
          },
          "metadata": {
            "tags": []
          },
          "execution_count": 4
        }
      ]
    },
    {
      "cell_type": "code",
      "metadata": {
        "ExecuteTime": {
          "end_time": "2020-02-16T10:30:08.364717Z",
          "start_time": "2020-02-16T10:30:08.359274Z"
        },
        "id": "Zmog_kMXjn_z",
        "colab_type": "code",
        "colab": {
          "base_uri": "https://localhost:8080/",
          "height": 36
        },
        "outputId": "45df949d-6cc5-4133-a9a3-b4e28ed82985"
      },
      "source": [
        "fifa.shape\n",
        "# Checking the shape"
      ],
      "execution_count": 5,
      "outputs": [
        {
          "output_type": "execute_result",
          "data": {
            "text/plain": [
              "(18207, 89)"
            ]
          },
          "metadata": {
            "tags": []
          },
          "execution_count": 5
        }
      ]
    },
    {
      "cell_type": "markdown",
      "metadata": {
        "id": "Nrchhzddjn_5",
        "colab_type": "text"
      },
      "source": [
        "<span style=\"font-family: Arial; font-weight:bold;font-size:1.5em;color:#03a1fc\">Dropping unnecessary columns"
      ]
    },
    {
      "cell_type": "code",
      "metadata": {
        "ExecuteTime": {
          "end_time": "2020-02-16T10:30:08.380681Z",
          "start_time": "2020-02-16T10:30:08.368150Z"
        },
        "id": "kyCTYzXvjn_7",
        "colab_type": "code",
        "colab": {}
      },
      "source": [
        "fifa.drop(['ID','Photo','Flag','Club Logo','Jersey Number','Loaned From','Club','Work Rate'],axis=1,inplace=True)\n",
        "# ID, Jersey number & Photo were dropped as they're irrelevant for analysis\n",
        "# Flag was dropped as nationality is already mentioned \n",
        "# Club logo and club due  to irrelevance\n",
        "# Loaned From dropped due to irrelevance to the analysis\n",
        "# Work Rate"
      ],
      "execution_count": 6,
      "outputs": []
    },
    {
      "cell_type": "code",
      "metadata": {
        "ExecuteTime": {
          "end_time": "2020-02-16T10:30:08.388801Z",
          "start_time": "2020-02-16T10:30:08.383472Z"
        },
        "id": "qSRJvyy9joAB",
        "colab_type": "code",
        "colab": {
          "base_uri": "https://localhost:8080/",
          "height": 298
        },
        "outputId": "883a0857-343a-41e8-f914-10158c344d44"
      },
      "source": [
        "fifa.columns"
      ],
      "execution_count": 7,
      "outputs": [
        {
          "output_type": "execute_result",
          "data": {
            "text/plain": [
              "Index(['Unnamed: 0', 'Name', 'Age', 'Nationality', 'Overall', 'Potential',\n",
              "       'Value', 'Wage', 'Special', 'Preferred Foot',\n",
              "       'International Reputation', 'Weak Foot', 'Skill Moves', 'Body Type',\n",
              "       'Real Face', 'Position', 'Joined', 'Contract Valid Until', 'Height',\n",
              "       'Weight', 'LS', 'ST', 'RS', 'LW', 'LF', 'CF', 'RF', 'RW', 'LAM', 'CAM',\n",
              "       'RAM', 'LM', 'LCM', 'CM', 'RCM', 'RM', 'LWB', 'LDM', 'CDM', 'RDM',\n",
              "       'RWB', 'LB', 'LCB', 'CB', 'RCB', 'RB', 'Crossing', 'Finishing',\n",
              "       'HeadingAccuracy', 'ShortPassing', 'Volleys', 'Dribbling', 'Curve',\n",
              "       'FKAccuracy', 'LongPassing', 'BallControl', 'Acceleration',\n",
              "       'SprintSpeed', 'Agility', 'Reactions', 'Balance', 'ShotPower',\n",
              "       'Jumping', 'Stamina', 'Strength', 'LongShots', 'Aggression',\n",
              "       'Interceptions', 'Positioning', 'Vision', 'Penalties', 'Composure',\n",
              "       'Marking', 'StandingTackle', 'SlidingTackle', 'GKDiving', 'GKHandling',\n",
              "       'GKKicking', 'GKPositioning', 'GKReflexes', 'Release Clause'],\n",
              "      dtype='object')"
            ]
          },
          "metadata": {
            "tags": []
          },
          "execution_count": 7
        }
      ]
    },
    {
      "cell_type": "markdown",
      "metadata": {
        "id": "QfwxozGdjoAH",
        "colab_type": "text"
      },
      "source": [
        "<span style=\"font-family: Arial; font-weight:bold;font-size:1.5em;color:#03a1fc\">Conversion of columns"
      ]
    },
    {
      "cell_type": "markdown",
      "metadata": {
        "ExecuteTime": {
          "end_time": "2020-02-15T09:18:31.436722Z",
          "start_time": "2020-02-15T09:18:31.432338Z"
        },
        "id": "wJGfcF81joAJ",
        "colab_type": "text"
      },
      "source": [
        "<span style=\"font-family: Arial; font-weight:bold;font-size:1.2em;color:#fc7b03\">1. Value"
      ]
    },
    {
      "cell_type": "code",
      "metadata": {
        "ExecuteTime": {
          "end_time": "2020-02-16T10:30:08.397631Z",
          "start_time": "2020-02-16T10:30:08.391542Z"
        },
        "id": "Cbt4ULfyjoAL",
        "colab_type": "code",
        "colab": {
          "base_uri": "https://localhost:8080/",
          "height": 242
        },
        "outputId": "88c0cca4-d6c7-4d6e-d484-73b5edf7bb5b"
      },
      "source": [
        "fifa['Value']\n",
        "# Amount with Euro symbol as prefix.\n",
        "# Suffix ‘K’ indicating thousands.\n",
        "# Suffix 'M' indicating millions."
      ],
      "execution_count": 8,
      "outputs": [
        {
          "output_type": "execute_result",
          "data": {
            "text/plain": [
              "0        €110.5M\n",
              "1           €77M\n",
              "2        €118.5M\n",
              "3           €72M\n",
              "4          €102M\n",
              "          ...   \n",
              "18202       €60K\n",
              "18203       €60K\n",
              "18204       €60K\n",
              "18205       €60K\n",
              "18206       €60K\n",
              "Name: Value, Length: 18207, dtype: object"
            ]
          },
          "metadata": {
            "tags": []
          },
          "execution_count": 8
        }
      ]
    },
    {
      "cell_type": "markdown",
      "metadata": {
        "id": "z5opDZxIjoAQ",
        "colab_type": "text"
      },
      "source": [
        "<span style=\"font-family: Arial; font-weight:bold;font-size:1.2em;color:#4e9968\">Checking the dtype"
      ]
    },
    {
      "cell_type": "code",
      "metadata": {
        "ExecuteTime": {
          "end_time": "2020-02-16T10:30:08.404293Z",
          "start_time": "2020-02-16T10:30:08.400035Z"
        },
        "id": "dJUqKF1yjoAR",
        "colab_type": "code",
        "colab": {
          "base_uri": "https://localhost:8080/",
          "height": 36
        },
        "outputId": "9c539ecc-442e-49f9-ac3f-1013844513dc"
      },
      "source": [
        "fifa.Value.dtypes\n",
        "# Checking the dtype for deciding the type of operation to run for updating and further converting into float"
      ],
      "execution_count": 9,
      "outputs": [
        {
          "output_type": "execute_result",
          "data": {
            "text/plain": [
              "dtype('O')"
            ]
          },
          "metadata": {
            "tags": []
          },
          "execution_count": 9
        }
      ]
    },
    {
      "cell_type": "markdown",
      "metadata": {
        "id": "xVmqcduHjoAV",
        "colab_type": "text"
      },
      "source": [
        "<span style=\"font-family: Arial; font-weight:bold;font-size:1.2em;color:#4e9968\">Checking the null values"
      ]
    },
    {
      "cell_type": "code",
      "metadata": {
        "ExecuteTime": {
          "end_time": "2020-02-16T10:30:08.416251Z",
          "start_time": "2020-02-16T10:30:08.409509Z"
        },
        "id": "n92k4NgXjoAW",
        "colab_type": "code",
        "colab": {
          "base_uri": "https://localhost:8080/",
          "height": 36
        },
        "outputId": "f3938411-8a41-465d-c0f4-5475284687b8"
      },
      "source": [
        "fifa.Value.isnull().sum()\n",
        "# Checking for null values"
      ],
      "execution_count": 10,
      "outputs": [
        {
          "output_type": "execute_result",
          "data": {
            "text/plain": [
              "0"
            ]
          },
          "metadata": {
            "tags": []
          },
          "execution_count": 10
        }
      ]
    },
    {
      "cell_type": "markdown",
      "metadata": {
        "id": "tUM-9aTSjoAb",
        "colab_type": "text"
      },
      "source": [
        "<span style=\"font-family: Arial; font-weight:bold;font-size:1.2em;color:#4e9968\">Updating the values"
      ]
    },
    {
      "cell_type": "code",
      "metadata": {
        "ExecuteTime": {
          "end_time": "2020-02-16T10:31:33.929314Z",
          "start_time": "2020-02-16T10:30:08.420002Z"
        },
        "scrolled": false,
        "id": "_W3_DE_NjoAc",
        "colab_type": "code",
        "colab": {}
      },
      "source": [
        "# Updating the values\n",
        "for i in fifa[fifa['Value'].isnull()==False].index:\n",
        "    if fifa.loc[i,'Value'][0] == '€':\n",
        "        fifa.loc[i,'Value'] = fifa.loc[i,'Value'][1:]\n",
        "    if fifa.loc[i,'Value'][-1] == 'M':\n",
        "        fifa.loc[i,'Value'] = float(fifa.loc[i,'Value'][:-1])*1000000\n",
        "    elif fifa.loc[i,'Value'][-1] == 'K':\n",
        "        fifa.loc[i,'Value'] = float(fifa.loc[i,'Value'][:-1])*1000"
      ],
      "execution_count": 11,
      "outputs": []
    },
    {
      "cell_type": "markdown",
      "metadata": {
        "id": "BqcvFNnWjoAh",
        "colab_type": "text"
      },
      "source": [
        "<span style=\"font-family: Arial; font-weight:bold;font-size:1.2em;color:#4e9968\">Converting to float"
      ]
    },
    {
      "cell_type": "code",
      "metadata": {
        "ExecuteTime": {
          "end_time": "2020-02-16T10:31:33.944654Z",
          "start_time": "2020-02-16T10:31:33.932384Z"
        },
        "id": "aeRpnvjFjoAi",
        "colab_type": "code",
        "colab": {}
      },
      "source": [
        "fifa.Value = fifa.Value.astype(float)\n",
        "# converting into float"
      ],
      "execution_count": 12,
      "outputs": []
    },
    {
      "cell_type": "markdown",
      "metadata": {
        "ExecuteTime": {
          "end_time": "2020-02-15T10:38:00.312818Z",
          "start_time": "2020-02-15T10:38:00.306986Z"
        },
        "id": "aIqiT9E4joAm",
        "colab_type": "text"
      },
      "source": [
        "<span style=\"font-family: Arial; font-weight:bold;font-size:1.2em;color:#fc7b03\">2. Wage"
      ]
    },
    {
      "cell_type": "code",
      "metadata": {
        "ExecuteTime": {
          "end_time": "2020-02-16T10:31:33.953309Z",
          "start_time": "2020-02-16T10:31:33.946955Z"
        },
        "id": "O-kIrnBwjoAn",
        "colab_type": "code",
        "colab": {
          "base_uri": "https://localhost:8080/",
          "height": 242
        },
        "outputId": "b53ebfb4-39db-4500-dbeb-036fabbae68a"
      },
      "source": [
        "fifa['Wage']\n",
        "# Amount with Euro symbol as prefix.\n",
        "# Suffix ‘K’ indicating thousands.\n",
        "# Suffix ‘M’ indicating millions."
      ],
      "execution_count": 13,
      "outputs": [
        {
          "output_type": "execute_result",
          "data": {
            "text/plain": [
              "0        €565K\n",
              "1        €405K\n",
              "2        €290K\n",
              "3        €260K\n",
              "4        €355K\n",
              "         ...  \n",
              "18202      €1K\n",
              "18203      €1K\n",
              "18204      €1K\n",
              "18205      €1K\n",
              "18206      €1K\n",
              "Name: Wage, Length: 18207, dtype: object"
            ]
          },
          "metadata": {
            "tags": []
          },
          "execution_count": 13
        }
      ]
    },
    {
      "cell_type": "markdown",
      "metadata": {
        "id": "77-zBrEwjoAr",
        "colab_type": "text"
      },
      "source": [
        "<span style=\"font-family: Arial; font-weight:bold;font-size:1.2em;color:#4e9968\">Checking the dtype"
      ]
    },
    {
      "cell_type": "code",
      "metadata": {
        "ExecuteTime": {
          "end_time": "2020-02-16T10:31:33.960397Z",
          "start_time": "2020-02-16T10:31:33.955889Z"
        },
        "id": "mAXFyzkwjoAs",
        "colab_type": "code",
        "colab": {
          "base_uri": "https://localhost:8080/",
          "height": 36
        },
        "outputId": "c7fc9a29-f3a0-4927-9fbd-08d67e51edf0"
      },
      "source": [
        "fifa.Wage.dtype\n",
        "# Checking the dtype for deciding the type of operation to run for updating and further converting into float"
      ],
      "execution_count": 14,
      "outputs": [
        {
          "output_type": "execute_result",
          "data": {
            "text/plain": [
              "dtype('O')"
            ]
          },
          "metadata": {
            "tags": []
          },
          "execution_count": 14
        }
      ]
    },
    {
      "cell_type": "markdown",
      "metadata": {
        "id": "cgY77OwTjoAv",
        "colab_type": "text"
      },
      "source": [
        "<span style=\"font-family: Arial; font-weight:bold;font-size:1.2em;color:#4e9968\">Checking the null values"
      ]
    },
    {
      "cell_type": "code",
      "metadata": {
        "ExecuteTime": {
          "end_time": "2020-02-16T10:31:33.968590Z",
          "start_time": "2020-02-16T10:31:33.962562Z"
        },
        "id": "y-Uzb8CljoAw",
        "colab_type": "code",
        "colab": {
          "base_uri": "https://localhost:8080/",
          "height": 36
        },
        "outputId": "ada8afcb-e5d9-42c6-e658-b1bdc75645c1"
      },
      "source": [
        "fifa.Wage.isnull().sum()\n",
        "# Checking for null values"
      ],
      "execution_count": 15,
      "outputs": [
        {
          "output_type": "execute_result",
          "data": {
            "text/plain": [
              "0"
            ]
          },
          "metadata": {
            "tags": []
          },
          "execution_count": 15
        }
      ]
    },
    {
      "cell_type": "markdown",
      "metadata": {
        "id": "3udLe5IQjoA0",
        "colab_type": "text"
      },
      "source": [
        "<span style=\"font-family: Arial; font-weight:bold;font-size:1.2em;color:#4e9968\">Updating the values"
      ]
    },
    {
      "cell_type": "code",
      "metadata": {
        "ExecuteTime": {
          "start_time": "2020-02-16T10:30:05.694Z"
        },
        "id": "obZP_W1mjoA2",
        "colab_type": "code",
        "colab": {}
      },
      "source": [
        "# Updating the values\n",
        "for i in fifa[fifa['Wage'].isnull()==False].index:\n",
        "    if fifa.loc[i,'Wage'][0] == '€':\n",
        "        fifa.loc[i,'Wage'] = fifa.loc[i,'Wage'][1:]\n",
        "    if fifa.loc[i,'Wage'][-1] == 'M':\n",
        "        fifa.loc[i,'Wage'] = float(fifa.loc[i,'Wage'][:-1])*1000000\n",
        "    elif fifa.loc[i,'Wage'][-1] == 'K':\n",
        "        fifa.loc[i,'Wage'] = float(fifa.loc[i,'Wage'][:-1])*1000"
      ],
      "execution_count": 16,
      "outputs": []
    },
    {
      "cell_type": "markdown",
      "metadata": {
        "id": "vTpEzqsSjoA4",
        "colab_type": "text"
      },
      "source": [
        "<span style=\"font-family: Arial; font-weight:bold;font-size:1.2em;color:#4e9968\">Converting to float"
      ]
    },
    {
      "cell_type": "code",
      "metadata": {
        "ExecuteTime": {
          "start_time": "2020-02-16T10:30:05.697Z"
        },
        "id": "AaoiQU0ijoA5",
        "colab_type": "code",
        "colab": {}
      },
      "source": [
        "fifa.Wage = fifa.Wage.astype(float)"
      ],
      "execution_count": 17,
      "outputs": []
    },
    {
      "cell_type": "markdown",
      "metadata": {
        "id": "_BsPQnVajoA8",
        "colab_type": "text"
      },
      "source": [
        "<span style=\"font-family: Arial; font-weight:bold;font-size:1.2em;color:#fc7b03\">3. Joined"
      ]
    },
    {
      "cell_type": "code",
      "metadata": {
        "ExecuteTime": {
          "start_time": "2020-02-16T10:30:05.699Z"
        },
        "id": "1MlDJ-yijoA-",
        "colab_type": "code",
        "colab": {
          "base_uri": "https://localhost:8080/",
          "height": 242
        },
        "outputId": "633de15a-9348-4cbe-d80c-ece1d291550e"
      },
      "source": [
        "fifa['Joined']\n",
        "# Year as a string, in some cases complete date as string"
      ],
      "execution_count": 18,
      "outputs": [
        {
          "output_type": "execute_result",
          "data": {
            "text/plain": [
              "0         Jul 1, 2004\n",
              "1        Jul 10, 2018\n",
              "2         Aug 3, 2017\n",
              "3         Jul 1, 2011\n",
              "4        Aug 30, 2015\n",
              "             ...     \n",
              "18202     May 3, 2017\n",
              "18203    Mar 19, 2018\n",
              "18204     Jul 1, 2017\n",
              "18205    Apr 24, 2018\n",
              "18206    Oct 30, 2018\n",
              "Name: Joined, Length: 18207, dtype: object"
            ]
          },
          "metadata": {
            "tags": []
          },
          "execution_count": 18
        }
      ]
    },
    {
      "cell_type": "markdown",
      "metadata": {
        "id": "VdietYhYjoBB",
        "colab_type": "text"
      },
      "source": [
        "<span style=\"font-family: Arial; font-weight:bold;font-size:1.2em;color:#4e9968\">Checking the dtype"
      ]
    },
    {
      "cell_type": "code",
      "metadata": {
        "ExecuteTime": {
          "start_time": "2020-02-16T10:30:05.701Z"
        },
        "id": "utR5_e3IjoBC",
        "colab_type": "code",
        "colab": {
          "base_uri": "https://localhost:8080/",
          "height": 36
        },
        "outputId": "4000b1b5-976a-46ae-ea45-30e347317166"
      },
      "source": [
        "fifa.Joined.dtype"
      ],
      "execution_count": 19,
      "outputs": [
        {
          "output_type": "execute_result",
          "data": {
            "text/plain": [
              "dtype('O')"
            ]
          },
          "metadata": {
            "tags": []
          },
          "execution_count": 19
        }
      ]
    },
    {
      "cell_type": "markdown",
      "metadata": {
        "id": "td8YE6ctjoBF",
        "colab_type": "text"
      },
      "source": [
        "<span style=\"font-family: Arial; font-weight:bold;font-size:1.2em;color:#4e9968\">Checking for null values"
      ]
    },
    {
      "cell_type": "code",
      "metadata": {
        "ExecuteTime": {
          "start_time": "2020-02-16T10:30:05.704Z"
        },
        "id": "rZRDDTaXjoBG",
        "colab_type": "code",
        "colab": {
          "base_uri": "https://localhost:8080/",
          "height": 36
        },
        "outputId": "1cd02fbb-f1e9-4a76-d7e2-4d1c33c2462d"
      },
      "source": [
        "fifa['Joined'].isnull().sum()"
      ],
      "execution_count": 20,
      "outputs": [
        {
          "output_type": "execute_result",
          "data": {
            "text/plain": [
              "1553"
            ]
          },
          "metadata": {
            "tags": []
          },
          "execution_count": 20
        }
      ]
    },
    {
      "cell_type": "markdown",
      "metadata": {
        "id": "JltT9Pp7joBJ",
        "colab_type": "text"
      },
      "source": [
        "<span style=\"font-family: Arial; font-weight:bold;font-size:1.2em;color:#4e9968\">Updating the values"
      ]
    },
    {
      "cell_type": "code",
      "metadata": {
        "ExecuteTime": {
          "start_time": "2020-02-16T10:30:05.706Z"
        },
        "id": "x38XVlZVjoBK",
        "colab_type": "code",
        "colab": {}
      },
      "source": [
        "for i in fifa[fifa.Joined.isnull()==False].index:\n",
        "    \n",
        "    fifa.loc[i,'Joined'] = int(fifa.loc[i,'Joined'][-4::])"
      ],
      "execution_count": 21,
      "outputs": []
    },
    {
      "cell_type": "markdown",
      "metadata": {
        "id": "h3gS3XqyjoBM",
        "colab_type": "text"
      },
      "source": [
        "<span style=\"font-family: Arial; font-weight:bold;font-size:1.2em;color:#4e9968\">Filling the null values"
      ]
    },
    {
      "cell_type": "code",
      "metadata": {
        "ExecuteTime": {
          "start_time": "2020-02-16T10:30:05.709Z"
        },
        "id": "9UY11HT1joBN",
        "colab_type": "code",
        "colab": {
          "base_uri": "https://localhost:8080/",
          "height": 36
        },
        "outputId": "8a8332e0-0d96-4956-afa3-ae6f54a4a0ad"
      },
      "source": [
        "fifa.Joined.median()"
      ],
      "execution_count": 22,
      "outputs": [
        {
          "output_type": "execute_result",
          "data": {
            "text/plain": [
              "2017.0"
            ]
          },
          "metadata": {
            "tags": []
          },
          "execution_count": 22
        }
      ]
    },
    {
      "cell_type": "code",
      "metadata": {
        "ExecuteTime": {
          "start_time": "2020-02-16T10:30:05.711Z"
        },
        "id": "NVDYe0VTjoBQ",
        "colab_type": "code",
        "colab": {
          "base_uri": "https://localhost:8080/",
          "height": 36
        },
        "outputId": "da693d61-43d6-4b94-d5ba-1cdc2e3dcb84"
      },
      "source": [
        "fifa.Joined.mean()"
      ],
      "execution_count": 23,
      "outputs": [
        {
          "output_type": "execute_result",
          "data": {
            "text/plain": [
              "2016.4598294703976"
            ]
          },
          "metadata": {
            "tags": []
          },
          "execution_count": 23
        }
      ]
    },
    {
      "cell_type": "code",
      "metadata": {
        "ExecuteTime": {
          "start_time": "2020-02-16T10:30:05.713Z"
        },
        "id": "C5IOpoS8joBS",
        "colab_type": "code",
        "colab": {
          "base_uri": "https://localhost:8080/",
          "height": 54
        },
        "outputId": "f385d531-31f5-4e3a-9975-d7de727448f6"
      },
      "source": [
        "fifa.Joined.mode()"
      ],
      "execution_count": 24,
      "outputs": [
        {
          "output_type": "execute_result",
          "data": {
            "text/plain": [
              "0    2018\n",
              "dtype: object"
            ]
          },
          "metadata": {
            "tags": []
          },
          "execution_count": 24
        }
      ]
    },
    {
      "cell_type": "code",
      "metadata": {
        "ExecuteTime": {
          "start_time": "2020-02-16T10:30:05.715Z"
        },
        "id": "FStJoTT3joBV",
        "colab_type": "code",
        "colab": {}
      },
      "source": [
        "# Filling NaN values\n",
        "fifa['Joined'].fillna(fifa.Joined.median(),inplace=True)"
      ],
      "execution_count": 25,
      "outputs": []
    },
    {
      "cell_type": "code",
      "metadata": {
        "ExecuteTime": {
          "start_time": "2020-02-16T10:30:05.717Z"
        },
        "id": "8q_3CbFZjoBX",
        "colab_type": "code",
        "colab": {
          "base_uri": "https://localhost:8080/",
          "height": 36
        },
        "outputId": "65db83da-e4f3-4ed3-9144-14a43e74fa0a"
      },
      "source": [
        "fifa.Joined.isnull().any()"
      ],
      "execution_count": 26,
      "outputs": [
        {
          "output_type": "execute_result",
          "data": {
            "text/plain": [
              "False"
            ]
          },
          "metadata": {
            "tags": []
          },
          "execution_count": 26
        }
      ]
    },
    {
      "cell_type": "markdown",
      "metadata": {
        "id": "Dn0XBEtqjoBa",
        "colab_type": "text"
      },
      "source": [
        "<span style=\"font-family: Arial; font-weight:bold;font-size:1.2em;color:#4e9968\">Converting to int"
      ]
    },
    {
      "cell_type": "code",
      "metadata": {
        "ExecuteTime": {
          "start_time": "2020-02-16T10:30:05.719Z"
        },
        "id": "j3QwlSfwjoBb",
        "colab_type": "code",
        "colab": {}
      },
      "source": [
        "fifa.Joined = fifa.Joined.astype(int)\n",
        "# Changing type as integer"
      ],
      "execution_count": 27,
      "outputs": []
    },
    {
      "cell_type": "markdown",
      "metadata": {
        "id": "vbPOB7brjoBd",
        "colab_type": "text"
      },
      "source": [
        "<span style=\"font-family: Arial; font-weight:bold;font-size:1.2em;color:#fc7b03\">4. Contract Valid Until"
      ]
    },
    {
      "cell_type": "code",
      "metadata": {
        "ExecuteTime": {
          "start_time": "2020-02-16T10:30:05.722Z"
        },
        "scrolled": false,
        "id": "KuaGqeUnjoBe",
        "colab_type": "code",
        "colab": {
          "base_uri": "https://localhost:8080/",
          "height": 242
        },
        "outputId": "d47b094c-48bb-4a12-a34a-7de10b5b3c32"
      },
      "source": [
        "fifa['Contract Valid Until']\n",
        "# Date as a string"
      ],
      "execution_count": 28,
      "outputs": [
        {
          "output_type": "execute_result",
          "data": {
            "text/plain": [
              "0        2021\n",
              "1        2022\n",
              "2        2022\n",
              "3        2020\n",
              "4        2023\n",
              "         ... \n",
              "18202    2019\n",
              "18203    2020\n",
              "18204    2021\n",
              "18205    2019\n",
              "18206    2019\n",
              "Name: Contract Valid Until, Length: 18207, dtype: object"
            ]
          },
          "metadata": {
            "tags": []
          },
          "execution_count": 28
        }
      ]
    },
    {
      "cell_type": "markdown",
      "metadata": {
        "id": "0P4-TIe6joBh",
        "colab_type": "text"
      },
      "source": [
        "<span style=\"font-family: Arial; font-weight:bold;font-size:1.2em;color:#4e9968\">Checking the dtype"
      ]
    },
    {
      "cell_type": "code",
      "metadata": {
        "ExecuteTime": {
          "start_time": "2020-02-16T10:30:05.724Z"
        },
        "id": "nEo0Tg2BjoBi",
        "colab_type": "code",
        "colab": {
          "base_uri": "https://localhost:8080/",
          "height": 36
        },
        "outputId": "1b59649f-cb26-49b1-fc0f-5aa39643dfc4"
      },
      "source": [
        "fifa['Contract Valid Until'].dtype"
      ],
      "execution_count": 29,
      "outputs": [
        {
          "output_type": "execute_result",
          "data": {
            "text/plain": [
              "dtype('O')"
            ]
          },
          "metadata": {
            "tags": []
          },
          "execution_count": 29
        }
      ]
    },
    {
      "cell_type": "markdown",
      "metadata": {
        "id": "vT9nraWQjoBk",
        "colab_type": "text"
      },
      "source": [
        "<span style=\"font-family: Arial; font-weight:bold;font-size:1.2em;color:#4e9968\">Checking for null values"
      ]
    },
    {
      "cell_type": "code",
      "metadata": {
        "ExecuteTime": {
          "start_time": "2020-02-16T10:30:05.726Z"
        },
        "id": "-YlNn8lojoBl",
        "colab_type": "code",
        "colab": {
          "base_uri": "https://localhost:8080/",
          "height": 36
        },
        "outputId": "07d0966f-8190-4bbe-9772-cb38c72e6674"
      },
      "source": [
        "fifa['Contract Valid Until'].isnull().sum()\n",
        "# checking for null values"
      ],
      "execution_count": 30,
      "outputs": [
        {
          "output_type": "execute_result",
          "data": {
            "text/plain": [
              "289"
            ]
          },
          "metadata": {
            "tags": []
          },
          "execution_count": 30
        }
      ]
    },
    {
      "cell_type": "markdown",
      "metadata": {
        "id": "lRyZPDw4joBn",
        "colab_type": "text"
      },
      "source": [
        "<span style=\"font-family: Arial; font-weight:bold;font-size:1.2em;color:#4e9968\">Converting to datetime"
      ]
    },
    {
      "cell_type": "code",
      "metadata": {
        "ExecuteTime": {
          "start_time": "2020-02-16T10:30:05.729Z"
        },
        "id": "fIZah1-YjoBo",
        "colab_type": "code",
        "colab": {}
      },
      "source": [
        "fifa['Contract Valid Until'] = pd.to_datetime(fifa['Contract Valid Until'])\n",
        "# Changing dtype to datetime"
      ],
      "execution_count": 31,
      "outputs": []
    },
    {
      "cell_type": "code",
      "metadata": {
        "ExecuteTime": {
          "start_time": "2020-02-16T10:30:05.731Z"
        },
        "id": "TZpKjqvWjoBq",
        "colab_type": "code",
        "colab": {}
      },
      "source": [
        "# for i in fifa[fifa['Contract Valid Until'].isnull()==False].index:\n",
        "    \n",
        "#     fifa.loc[i,'Contract Valid Until'] = int(fifa.loc[i,'Contract Valid Until'][-4::])\n",
        "    \n",
        "# # converting to integer with only year"
      ],
      "execution_count": 32,
      "outputs": []
    },
    {
      "cell_type": "code",
      "metadata": {
        "ExecuteTime": {
          "start_time": "2020-02-16T10:30:05.733Z"
        },
        "id": "B4URcOzwjoBs",
        "colab_type": "code",
        "colab": {
          "base_uri": "https://localhost:8080/",
          "height": 36
        },
        "outputId": "4925f47a-e6e4-4075-d104-0b14521aaafd"
      },
      "source": [
        "fifa['Contract Valid Until'].dtype"
      ],
      "execution_count": 33,
      "outputs": [
        {
          "output_type": "execute_result",
          "data": {
            "text/plain": [
              "dtype('<M8[ns]')"
            ]
          },
          "metadata": {
            "tags": []
          },
          "execution_count": 33
        }
      ]
    },
    {
      "cell_type": "markdown",
      "metadata": {
        "id": "6I0Zh0NUjoBx",
        "colab_type": "text"
      },
      "source": [
        "<span style=\"font-family: Arial; font-weight:bold;font-size:1.2em;color:#4e9968\">Filling the null values"
      ]
    },
    {
      "cell_type": "code",
      "metadata": {
        "ExecuteTime": {
          "start_time": "2020-02-16T10:30:05.735Z"
        },
        "id": "dKotQmipjoBx",
        "colab_type": "code",
        "colab": {
          "base_uri": "https://localhost:8080/",
          "height": 36
        },
        "outputId": "2aad8854-5f3a-41cf-9ccd-202a28e63ec4"
      },
      "source": [
        "fifa['Contract Valid Until'].mean()"
      ],
      "execution_count": 34,
      "outputs": [
        {
          "output_type": "execute_result",
          "data": {
            "text/plain": [
              "Timestamp('2020-03-08 03:08:17.868120064')"
            ]
          },
          "metadata": {
            "tags": []
          },
          "execution_count": 34
        }
      ]
    },
    {
      "cell_type": "code",
      "metadata": {
        "ExecuteTime": {
          "start_time": "2020-02-16T10:30:05.737Z"
        },
        "id": "IF5HL8CLjoB0",
        "colab_type": "code",
        "colab": {}
      },
      "source": [
        "# filling null values\n",
        "fifa['Contract Valid Until'].fillna(fifa['Contract Valid Until'].mean(),inplace=True)"
      ],
      "execution_count": 35,
      "outputs": []
    },
    {
      "cell_type": "code",
      "metadata": {
        "ExecuteTime": {
          "start_time": "2020-02-16T10:30:05.739Z"
        },
        "id": "Ky_y0W2TjoB2",
        "colab_type": "code",
        "colab": {
          "base_uri": "https://localhost:8080/",
          "height": 36
        },
        "outputId": "648b08d9-f483-4276-c1c8-125e2a0d6139"
      },
      "source": [
        "fifa['Contract Valid Until'].isnull().any()"
      ],
      "execution_count": 36,
      "outputs": [
        {
          "output_type": "execute_result",
          "data": {
            "text/plain": [
              "False"
            ]
          },
          "metadata": {
            "tags": []
          },
          "execution_count": 36
        }
      ]
    },
    {
      "cell_type": "markdown",
      "metadata": {
        "ExecuteTime": {
          "end_time": "2020-02-15T16:55:30.713899Z",
          "start_time": "2020-02-15T16:54:28.784Z"
        },
        "id": "lXRgFo_gjoB5",
        "colab_type": "text"
      },
      "source": [
        "<span style=\"font-family: Arial; font-weight:bold;font-size:1.2em;color:#fc7b03\">5. Height"
      ]
    },
    {
      "cell_type": "code",
      "metadata": {
        "ExecuteTime": {
          "start_time": "2020-02-16T10:30:05.742Z"
        },
        "scrolled": true,
        "id": "eFXIvUIPjoB5",
        "colab_type": "code",
        "colab": {
          "base_uri": "https://localhost:8080/",
          "height": 242
        },
        "outputId": "79dbae63-23ef-43cc-d6e7-619e21a05f14"
      },
      "source": [
        "fifa['Height']\n",
        "# In inches with a quotation mark"
      ],
      "execution_count": 37,
      "outputs": [
        {
          "output_type": "execute_result",
          "data": {
            "text/plain": [
              "0         5'7\n",
              "1         6'2\n",
              "2         5'9\n",
              "3         6'4\n",
              "4        5'11\n",
              "         ... \n",
              "18202     5'9\n",
              "18203     6'3\n",
              "18204     5'8\n",
              "18205    5'10\n",
              "18206    5'10\n",
              "Name: Height, Length: 18207, dtype: object"
            ]
          },
          "metadata": {
            "tags": []
          },
          "execution_count": 37
        }
      ]
    },
    {
      "cell_type": "markdown",
      "metadata": {
        "id": "Y3K_FaVqjoB8",
        "colab_type": "text"
      },
      "source": [
        "<span style=\"font-family: Arial; font-weight:bold;font-size:1.2em;color:#4e9968\">Checking dtype"
      ]
    },
    {
      "cell_type": "code",
      "metadata": {
        "ExecuteTime": {
          "start_time": "2020-02-16T10:30:05.744Z"
        },
        "id": "tFoGQpyGjoB9",
        "colab_type": "code",
        "colab": {
          "base_uri": "https://localhost:8080/",
          "height": 36
        },
        "outputId": "d5198b17-818d-4c3f-a241-267fbb41a82f"
      },
      "source": [
        "fifa['Height'].dtype"
      ],
      "execution_count": 38,
      "outputs": [
        {
          "output_type": "execute_result",
          "data": {
            "text/plain": [
              "dtype('O')"
            ]
          },
          "metadata": {
            "tags": []
          },
          "execution_count": 38
        }
      ]
    },
    {
      "cell_type": "markdown",
      "metadata": {
        "id": "Jl1xqeORjoB_",
        "colab_type": "text"
      },
      "source": [
        "<span style=\"font-family: Arial; font-weight:bold;font-size:1.2em;color:#4e9968\">Checking for null values"
      ]
    },
    {
      "cell_type": "code",
      "metadata": {
        "ExecuteTime": {
          "start_time": "2020-02-16T10:30:05.746Z"
        },
        "id": "cTGSwNsYjoCA",
        "colab_type": "code",
        "colab": {
          "base_uri": "https://localhost:8080/",
          "height": 36
        },
        "outputId": "78671f5f-294f-4fa3-f005-24e32f850b0b"
      },
      "source": [
        "fifa['Height'].isnull().sum()"
      ],
      "execution_count": 39,
      "outputs": [
        {
          "output_type": "execute_result",
          "data": {
            "text/plain": [
              "48"
            ]
          },
          "metadata": {
            "tags": []
          },
          "execution_count": 39
        }
      ]
    },
    {
      "cell_type": "markdown",
      "metadata": {
        "id": "PPbfH9BojoCD",
        "colab_type": "text"
      },
      "source": [
        "<span style=\"font-family: Arial; font-weight:bold;font-size:1.2em;color:#4e9968\">Updating the values"
      ]
    },
    {
      "cell_type": "code",
      "metadata": {
        "ExecuteTime": {
          "start_time": "2020-02-16T10:30:05.749Z"
        },
        "id": "A-KoauTJjoCE",
        "colab_type": "code",
        "colab": {}
      },
      "source": [
        "for i in fifa[fifa['Height'].isnull()==False].index:\n",
        "    \n",
        "    fifa.loc[i,'Height'] = float(fifa.loc[i,'Height'][0]) + float(fifa.loc[i,'Height'][2:])/12"
      ],
      "execution_count": 40,
      "outputs": []
    },
    {
      "cell_type": "code",
      "metadata": {
        "ExecuteTime": {
          "start_time": "2020-02-16T10:30:05.751Z"
        },
        "id": "Xdrvw9WUjoCG",
        "colab_type": "code",
        "colab": {
          "base_uri": "https://localhost:8080/",
          "height": 36
        },
        "outputId": "3c03e508-79fe-4e54-c9fc-165aa414c3ed"
      },
      "source": [
        "fifa['Height'].mean()"
      ],
      "execution_count": 41,
      "outputs": [
        {
          "output_type": "execute_result",
          "data": {
            "text/plain": [
              "5.94677111441519"
            ]
          },
          "metadata": {
            "tags": []
          },
          "execution_count": 41
        }
      ]
    },
    {
      "cell_type": "code",
      "metadata": {
        "ExecuteTime": {
          "start_time": "2020-02-16T10:30:05.753Z"
        },
        "id": "05FBDCi6joCJ",
        "colab_type": "code",
        "colab": {
          "base_uri": "https://localhost:8080/",
          "height": 36
        },
        "outputId": "5e48e1bc-9beb-4d6c-b01e-a5e7f4895aa3"
      },
      "source": [
        "fifa['Height'].median()"
      ],
      "execution_count": 42,
      "outputs": [
        {
          "output_type": "execute_result",
          "data": {
            "text/plain": [
              "5.916666666666667"
            ]
          },
          "metadata": {
            "tags": []
          },
          "execution_count": 42
        }
      ]
    },
    {
      "cell_type": "code",
      "metadata": {
        "ExecuteTime": {
          "start_time": "2020-02-16T10:30:05.755Z"
        },
        "id": "F0XPZJeQjoCL",
        "colab_type": "code",
        "colab": {}
      },
      "source": [
        "fifa['Height'].fillna(fifa['Height'].mean(),inplace=True)"
      ],
      "execution_count": 43,
      "outputs": []
    },
    {
      "cell_type": "code",
      "metadata": {
        "ExecuteTime": {
          "start_time": "2020-02-16T10:30:05.757Z"
        },
        "id": "9vsHegoDjoCO",
        "colab_type": "code",
        "colab": {
          "base_uri": "https://localhost:8080/",
          "height": 36
        },
        "outputId": "68ff68b9-ec89-45bb-adaf-7a229cef8b3b"
      },
      "source": [
        "fifa.Height.dtype"
      ],
      "execution_count": 44,
      "outputs": [
        {
          "output_type": "execute_result",
          "data": {
            "text/plain": [
              "dtype('float64')"
            ]
          },
          "metadata": {
            "tags": []
          },
          "execution_count": 44
        }
      ]
    },
    {
      "cell_type": "code",
      "metadata": {
        "ExecuteTime": {
          "start_time": "2020-02-16T10:30:05.759Z"
        },
        "id": "EIr959VKjoCQ",
        "colab_type": "code",
        "colab": {
          "base_uri": "https://localhost:8080/",
          "height": 36
        },
        "outputId": "3fe6df96-1428-42dd-98f5-c88fafc372ec"
      },
      "source": [
        "fifa['Height'].isnull().any()"
      ],
      "execution_count": 45,
      "outputs": [
        {
          "output_type": "execute_result",
          "data": {
            "text/plain": [
              "False"
            ]
          },
          "metadata": {
            "tags": []
          },
          "execution_count": 45
        }
      ]
    },
    {
      "cell_type": "markdown",
      "metadata": {
        "id": "jo3OLRmDjoCS",
        "colab_type": "text"
      },
      "source": [
        "<span style=\"font-family: Arial; font-weight:bold;font-size:1.2em;color:#fc7b03\">6. Weight"
      ]
    },
    {
      "cell_type": "code",
      "metadata": {
        "ExecuteTime": {
          "start_time": "2020-02-16T10:30:05.762Z"
        },
        "id": "BHuFWeVBjoCT",
        "colab_type": "code",
        "colab": {
          "base_uri": "https://localhost:8080/",
          "height": 242
        },
        "outputId": "ba765751-a1c5-43b0-d5a3-21fb8be0f8b8"
      },
      "source": [
        "fifa['Weight']\n",
        "# Contains the suffix lbs"
      ],
      "execution_count": 46,
      "outputs": [
        {
          "output_type": "execute_result",
          "data": {
            "text/plain": [
              "0        159lbs\n",
              "1        183lbs\n",
              "2        150lbs\n",
              "3        168lbs\n",
              "4        154lbs\n",
              "          ...  \n",
              "18202    134lbs\n",
              "18203    170lbs\n",
              "18204    148lbs\n",
              "18205    154lbs\n",
              "18206    176lbs\n",
              "Name: Weight, Length: 18207, dtype: object"
            ]
          },
          "metadata": {
            "tags": []
          },
          "execution_count": 46
        }
      ]
    },
    {
      "cell_type": "code",
      "metadata": {
        "ExecuteTime": {
          "start_time": "2020-02-16T10:30:05.765Z"
        },
        "id": "EQl9_qthjoCV",
        "colab_type": "code",
        "colab": {
          "base_uri": "https://localhost:8080/",
          "height": 36
        },
        "outputId": "e16efda7-3be8-45a0-a53b-5ffb023c9258"
      },
      "source": [
        "fifa.Weight.dtype"
      ],
      "execution_count": 47,
      "outputs": [
        {
          "output_type": "execute_result",
          "data": {
            "text/plain": [
              "dtype('O')"
            ]
          },
          "metadata": {
            "tags": []
          },
          "execution_count": 47
        }
      ]
    },
    {
      "cell_type": "code",
      "metadata": {
        "ExecuteTime": {
          "start_time": "2020-02-16T10:30:05.767Z"
        },
        "id": "Q9Qnc01-joCX",
        "colab_type": "code",
        "colab": {
          "base_uri": "https://localhost:8080/",
          "height": 36
        },
        "outputId": "deab63aa-3d25-4b56-9bd9-3dccf611ba43"
      },
      "source": [
        "fifa.Weight.isnull().sum()"
      ],
      "execution_count": 48,
      "outputs": [
        {
          "output_type": "execute_result",
          "data": {
            "text/plain": [
              "48"
            ]
          },
          "metadata": {
            "tags": []
          },
          "execution_count": 48
        }
      ]
    },
    {
      "cell_type": "markdown",
      "metadata": {
        "id": "jkmNQDq5joCa",
        "colab_type": "text"
      },
      "source": [
        "<span style=\"font-family: Arial; font-weight:bold;font-size:1.2em;color:#4e9968\">Updating the values"
      ]
    },
    {
      "cell_type": "code",
      "metadata": {
        "ExecuteTime": {
          "start_time": "2020-02-16T10:30:05.769Z"
        },
        "id": "vm3KM2A6joCb",
        "colab_type": "code",
        "colab": {}
      },
      "source": [
        "for i in fifa[fifa.Weight.isnull()==False].index:\n",
        "    \n",
        "    fifa.loc[i,'Weight'] = int(fifa.loc[i,'Weight'][:-3])"
      ],
      "execution_count": 49,
      "outputs": []
    },
    {
      "cell_type": "code",
      "metadata": {
        "ExecuteTime": {
          "start_time": "2020-02-16T10:30:05.771Z"
        },
        "id": "luT7mlaSjoCd",
        "colab_type": "code",
        "colab": {
          "base_uri": "https://localhost:8080/",
          "height": 36
        },
        "outputId": "1704f783-0307-4e68-b2b7-bd3e744bf996"
      },
      "source": [
        "fifa['Weight'].mean()"
      ],
      "execution_count": 50,
      "outputs": [
        {
          "output_type": "execute_result",
          "data": {
            "text/plain": [
              "165.97912880665234"
            ]
          },
          "metadata": {
            "tags": []
          },
          "execution_count": 50
        }
      ]
    },
    {
      "cell_type": "code",
      "metadata": {
        "ExecuteTime": {
          "start_time": "2020-02-16T10:30:05.773Z"
        },
        "id": "HP6iJ-_bjoCf",
        "colab_type": "code",
        "colab": {
          "base_uri": "https://localhost:8080/",
          "height": 36
        },
        "outputId": "e6f5faf5-11a0-425a-cd21-29cc28551e55"
      },
      "source": [
        "fifa['Weight'].median()"
      ],
      "execution_count": 51,
      "outputs": [
        {
          "output_type": "execute_result",
          "data": {
            "text/plain": [
              "165.0"
            ]
          },
          "metadata": {
            "tags": []
          },
          "execution_count": 51
        }
      ]
    },
    {
      "cell_type": "code",
      "metadata": {
        "ExecuteTime": {
          "start_time": "2020-02-16T10:30:05.775Z"
        },
        "id": "mLRKeoNejoCh",
        "colab_type": "code",
        "colab": {}
      },
      "source": [
        "fifa.Weight.fillna(fifa.Weight.median(),inplace=True)"
      ],
      "execution_count": 52,
      "outputs": []
    },
    {
      "cell_type": "code",
      "metadata": {
        "ExecuteTime": {
          "start_time": "2020-02-16T10:30:05.777Z"
        },
        "id": "_szh1cVpjoCj",
        "colab_type": "code",
        "colab": {
          "base_uri": "https://localhost:8080/",
          "height": 36
        },
        "outputId": "b2083018-ef89-4baf-cf37-6768b41d76c7"
      },
      "source": [
        "fifa.Weight.dtype"
      ],
      "execution_count": 53,
      "outputs": [
        {
          "output_type": "execute_result",
          "data": {
            "text/plain": [
              "dtype('float64')"
            ]
          },
          "metadata": {
            "tags": []
          },
          "execution_count": 53
        }
      ]
    },
    {
      "cell_type": "markdown",
      "metadata": {
        "id": "n67SMD6wjoCm",
        "colab_type": "text"
      },
      "source": [
        "<span style=\"font-family: Arial; font-weight:bold;font-size:1.2em;color:#fc7b03\">7. Release Clause"
      ]
    },
    {
      "cell_type": "code",
      "metadata": {
        "ExecuteTime": {
          "start_time": "2020-02-16T10:30:05.780Z"
        },
        "id": "p-toI1EOjoCm",
        "colab_type": "code",
        "colab": {
          "base_uri": "https://localhost:8080/",
          "height": 242
        },
        "outputId": "1d56a623-4b28-4ab6-8044-2f37e3b04f56"
      },
      "source": [
        "fifa['Release Clause']"
      ],
      "execution_count": 54,
      "outputs": [
        {
          "output_type": "execute_result",
          "data": {
            "text/plain": [
              "0        €226.5M\n",
              "1        €127.1M\n",
              "2        €228.1M\n",
              "3        €138.6M\n",
              "4        €196.4M\n",
              "          ...   \n",
              "18202      €143K\n",
              "18203      €113K\n",
              "18204      €165K\n",
              "18205      €143K\n",
              "18206      €165K\n",
              "Name: Release Clause, Length: 18207, dtype: object"
            ]
          },
          "metadata": {
            "tags": []
          },
          "execution_count": 54
        }
      ]
    },
    {
      "cell_type": "code",
      "metadata": {
        "ExecuteTime": {
          "start_time": "2020-02-16T10:30:05.782Z"
        },
        "id": "dkQrQ_VFjoCo",
        "colab_type": "code",
        "colab": {
          "base_uri": "https://localhost:8080/",
          "height": 36
        },
        "outputId": "2911c122-0fc4-4d88-a4c7-0ad128e3b656"
      },
      "source": [
        "fifa['Release Clause'].dtype"
      ],
      "execution_count": 55,
      "outputs": [
        {
          "output_type": "execute_result",
          "data": {
            "text/plain": [
              "dtype('O')"
            ]
          },
          "metadata": {
            "tags": []
          },
          "execution_count": 55
        }
      ]
    },
    {
      "cell_type": "code",
      "metadata": {
        "ExecuteTime": {
          "start_time": "2020-02-16T10:30:05.784Z"
        },
        "id": "eilrXhYMjoCr",
        "colab_type": "code",
        "colab": {
          "base_uri": "https://localhost:8080/",
          "height": 36
        },
        "outputId": "5a220930-3cea-4a91-9d65-7316357a0978"
      },
      "source": [
        "fifa['Release Clause'].isnull().sum()"
      ],
      "execution_count": 56,
      "outputs": [
        {
          "output_type": "execute_result",
          "data": {
            "text/plain": [
              "1564"
            ]
          },
          "metadata": {
            "tags": []
          },
          "execution_count": 56
        }
      ]
    },
    {
      "cell_type": "markdown",
      "metadata": {
        "id": "f34ZuYCzjoCt",
        "colab_type": "text"
      },
      "source": [
        "<span style=\"font-family: Arial; font-weight:bold;font-size:1.2em;color:#4e9968\">Updating the values"
      ]
    },
    {
      "cell_type": "code",
      "metadata": {
        "ExecuteTime": {
          "start_time": "2020-02-16T10:30:05.787Z"
        },
        "id": "uJxPc0WGjoCu",
        "colab_type": "code",
        "colab": {}
      },
      "source": [
        "# Updating the values\n",
        "for i in fifa[fifa['Release Clause'].isnull()==False].index:\n",
        "    if fifa.loc[i,'Release Clause'][0] == '€':\n",
        "        fifa.loc[i,'Release Clause'] = fifa.loc[i,'Release Clause'][1:]\n",
        "    if fifa.loc[i,'Release Clause'][-1] == 'M':\n",
        "        fifa.loc[i,'Release Clause'] = float(fifa.loc[i,'Release Clause'][:-1])*1000000\n",
        "    elif fifa.loc[i,'Release Clause'][-1] == 'K':\n",
        "        fifa.loc[i,'Release Clause'] = float(fifa.loc[i,'Release Clause'][:-1])*1000"
      ],
      "execution_count": 57,
      "outputs": []
    },
    {
      "cell_type": "code",
      "metadata": {
        "ExecuteTime": {
          "start_time": "2020-02-16T10:30:05.789Z"
        },
        "id": "m8fm1R9rjoCw",
        "colab_type": "code",
        "colab": {
          "base_uri": "https://localhost:8080/",
          "height": 36
        },
        "outputId": "1ac93161-13d9-4bdb-91cb-030b8754d649"
      },
      "source": [
        "fifa['Release Clause'].mean()"
      ],
      "execution_count": 58,
      "outputs": [
        {
          "output_type": "execute_result",
          "data": {
            "text/plain": [
              "4585060.986600974"
            ]
          },
          "metadata": {
            "tags": []
          },
          "execution_count": 58
        }
      ]
    },
    {
      "cell_type": "code",
      "metadata": {
        "ExecuteTime": {
          "start_time": "2020-02-16T10:30:05.791Z"
        },
        "id": "spnUrzckjoCy",
        "colab_type": "code",
        "colab": {
          "base_uri": "https://localhost:8080/",
          "height": 36
        },
        "outputId": "e6e09413-56d8-4749-86d0-5a5642f68571"
      },
      "source": [
        "fifa['Release Clause'].median()"
      ],
      "execution_count": 59,
      "outputs": [
        {
          "output_type": "execute_result",
          "data": {
            "text/plain": [
              "1100000.0"
            ]
          },
          "metadata": {
            "tags": []
          },
          "execution_count": 59
        }
      ]
    },
    {
      "cell_type": "code",
      "metadata": {
        "ExecuteTime": {
          "start_time": "2020-02-16T10:30:05.793Z"
        },
        "id": "zCzlG_C3joC0",
        "colab_type": "code",
        "colab": {}
      },
      "source": [
        "fifa['Release Clause'].fillna(fifa['Release Clause'].mean(),inplace=True)"
      ],
      "execution_count": 60,
      "outputs": []
    },
    {
      "cell_type": "code",
      "metadata": {
        "ExecuteTime": {
          "start_time": "2020-02-16T10:30:05.795Z"
        },
        "id": "sieUYGFEjoC3",
        "colab_type": "code",
        "colab": {
          "base_uri": "https://localhost:8080/",
          "height": 36
        },
        "outputId": "dadb84b2-a74d-40f3-eab3-ccbdf1f7f0d2"
      },
      "source": [
        "fifa['Release Clause'].dtype"
      ],
      "execution_count": 61,
      "outputs": [
        {
          "output_type": "execute_result",
          "data": {
            "text/plain": [
              "dtype('float64')"
            ]
          },
          "metadata": {
            "tags": []
          },
          "execution_count": 61
        }
      ]
    },
    {
      "cell_type": "markdown",
      "metadata": {
        "id": "GTfxitUgjoC5",
        "colab_type": "text"
      },
      "source": [
        "<span style=\"font-family: Arial; font-weight:bold;font-size:1.5em;color:#03a1fc\">The null values"
      ]
    },
    {
      "cell_type": "code",
      "metadata": {
        "ExecuteTime": {
          "start_time": "2020-02-16T10:30:05.798Z"
        },
        "id": "OFzbaSYPjoC5",
        "colab_type": "code",
        "colab": {
          "base_uri": "https://localhost:8080/",
          "height": 242
        },
        "outputId": "a8c1c89f-4557-4f77-d166-3fb424d768e1"
      },
      "source": [
        "fifa.isnull().sum()"
      ],
      "execution_count": 62,
      "outputs": [
        {
          "output_type": "execute_result",
          "data": {
            "text/plain": [
              "Unnamed: 0         0\n",
              "Name               0\n",
              "Age                0\n",
              "Nationality        0\n",
              "Overall            0\n",
              "                  ..\n",
              "GKHandling        48\n",
              "GKKicking         48\n",
              "GKPositioning     48\n",
              "GKReflexes        48\n",
              "Release Clause     0\n",
              "Length: 81, dtype: int64"
            ]
          },
          "metadata": {
            "tags": []
          },
          "execution_count": 62
        }
      ]
    },
    {
      "cell_type": "markdown",
      "metadata": {
        "id": "z-DPoP92joC8",
        "colab_type": "text"
      },
      "source": [
        "<span style=\"font-family: Arial; font-weight:bold;font-size:1.2em;color:#fc7b03\">Filling the null values"
      ]
    },
    {
      "cell_type": "code",
      "metadata": {
        "ExecuteTime": {
          "start_time": "2020-02-16T10:30:05.800Z"
        },
        "id": "2_yeSoILjoC8",
        "colab_type": "code",
        "colab": {}
      },
      "source": [
        "for column_name in ['International Reputation', 'Weak Foot',\n",
        "       'Skill Moves', 'Crossing', 'Finishing',\n",
        "       'HeadingAccuracy', 'ShortPassing', 'Volleys', 'Dribbling', 'Curve',\n",
        "       'FKAccuracy', 'LongPassing', 'BallControl', 'Acceleration',\n",
        "       'SprintSpeed', 'Agility', 'Reactions', 'Balance', 'ShotPower',\n",
        "       'Jumping', 'Stamina', 'Strength', 'LongShots', 'Aggression',\n",
        "       'Interceptions', 'Positioning', 'Vision', 'Penalties', 'Composure',\n",
        "       'Marking', 'StandingTackle', 'SlidingTackle', 'GKDiving', 'GKHandling',\n",
        "       'GKKicking', 'GKPositioning', 'GKReflexes', 'Release Clause']:\n",
        "    if fifa[column_name].isnull().any()==True:\n",
        "        fifa[column_name].fillna(fifa[column_name].median(),inplace=True)"
      ],
      "execution_count": 63,
      "outputs": []
    },
    {
      "cell_type": "code",
      "metadata": {
        "ExecuteTime": {
          "start_time": "2020-02-16T10:30:05.802Z"
        },
        "id": "fLabAp3zjoC_",
        "colab_type": "code",
        "colab": {
          "base_uri": "https://localhost:8080/",
          "height": 73
        },
        "outputId": "4cb2dded-dfae-4053-ef17-d43899338b30"
      },
      "source": [
        "fifa['Preferred Foot'].value_counts()"
      ],
      "execution_count": 64,
      "outputs": [
        {
          "output_type": "execute_result",
          "data": {
            "text/plain": [
              "Right    13948\n",
              "Left      4211\n",
              "Name: Preferred Foot, dtype: int64"
            ]
          },
          "metadata": {
            "tags": []
          },
          "execution_count": 64
        }
      ]
    },
    {
      "cell_type": "code",
      "metadata": {
        "ExecuteTime": {
          "start_time": "2020-02-16T10:30:05.804Z"
        },
        "id": "it6E8CIhjoDB",
        "colab_type": "code",
        "colab": {}
      },
      "source": [
        "fifa['Preferred Foot'].fillna('Right',inplace=True)"
      ],
      "execution_count": 65,
      "outputs": []
    },
    {
      "cell_type": "code",
      "metadata": {
        "ExecuteTime": {
          "start_time": "2020-02-16T10:30:05.806Z"
        },
        "id": "Wc96HqZZjoDD",
        "colab_type": "code",
        "colab": {
          "base_uri": "https://localhost:8080/",
          "height": 223
        },
        "outputId": "07f699f8-51e1-4f79-9943-3aa133fa89bf"
      },
      "source": [
        "fifa['Body Type'].value_counts()"
      ],
      "execution_count": 66,
      "outputs": [
        {
          "output_type": "execute_result",
          "data": {
            "text/plain": [
              "Normal                 10595\n",
              "Lean                    6417\n",
              "Stocky                  1140\n",
              "C. Ronaldo                 1\n",
              "PLAYER_BODY_TYPE_25        1\n",
              "Akinfenwa                  1\n",
              "Messi                      1\n",
              "Courtois                   1\n",
              "Neymar                     1\n",
              "Shaqiri                    1\n",
              "Name: Body Type, dtype: int64"
            ]
          },
          "metadata": {
            "tags": []
          },
          "execution_count": 66
        }
      ]
    },
    {
      "cell_type": "code",
      "metadata": {
        "ExecuteTime": {
          "start_time": "2020-02-16T10:30:05.808Z"
        },
        "id": "S0m9o5UjjoDF",
        "colab_type": "code",
        "colab": {}
      },
      "source": [
        "fifa['Body Type'].fillna('Normal',inplace=True)"
      ],
      "execution_count": 67,
      "outputs": []
    },
    {
      "cell_type": "code",
      "metadata": {
        "ExecuteTime": {
          "start_time": "2020-02-16T10:30:05.810Z"
        },
        "id": "VVJdjlNfjoDH",
        "colab_type": "code",
        "colab": {
          "base_uri": "https://localhost:8080/",
          "height": 54
        },
        "outputId": "7ed5584f-b379-4d18-ce53-a4211561449d"
      },
      "source": [
        "fifa['Position'].mode()"
      ],
      "execution_count": 68,
      "outputs": [
        {
          "output_type": "execute_result",
          "data": {
            "text/plain": [
              "0    ST\n",
              "dtype: object"
            ]
          },
          "metadata": {
            "tags": []
          },
          "execution_count": 68
        }
      ]
    },
    {
      "cell_type": "code",
      "metadata": {
        "ExecuteTime": {
          "start_time": "2020-02-16T10:30:05.812Z"
        },
        "id": "zC2sWrF0joDK",
        "colab_type": "code",
        "colab": {}
      },
      "source": [
        "fifa['Position'].fillna('ST',inplace=True)"
      ],
      "execution_count": 69,
      "outputs": []
    },
    {
      "cell_type": "code",
      "metadata": {
        "ExecuteTime": {
          "start_time": "2020-02-16T10:30:05.814Z"
        },
        "id": "VABg047wjoDM",
        "colab_type": "code",
        "colab": {
          "base_uri": "https://localhost:8080/",
          "height": 242
        },
        "outputId": "7eea9028-64bf-42e3-dff4-44cb5d59cf72"
      },
      "source": [
        "fifa.isnull().sum()"
      ],
      "execution_count": 70,
      "outputs": [
        {
          "output_type": "execute_result",
          "data": {
            "text/plain": [
              "Unnamed: 0        0\n",
              "Name              0\n",
              "Age               0\n",
              "Nationality       0\n",
              "Overall           0\n",
              "                 ..\n",
              "GKHandling        0\n",
              "GKKicking         0\n",
              "GKPositioning     0\n",
              "GKReflexes        0\n",
              "Release Clause    0\n",
              "Length: 81, dtype: int64"
            ]
          },
          "metadata": {
            "tags": []
          },
          "execution_count": 70
        }
      ]
    },
    {
      "cell_type": "markdown",
      "metadata": {
        "id": "N-i6fGoZjoDO",
        "colab_type": "text"
      },
      "source": [
        "<span style=\"font-family: Arial; font-weight:bold;font-size:1.5em;color:#03a1fc\">Exploratory Analysis"
      ]
    },
    {
      "cell_type": "markdown",
      "metadata": {
        "id": "xzSE555ajoDO",
        "colab_type": "text"
      },
      "source": [
        "<span style=\"font-family: Arial; font-weight:bold;font-size:1.2em;color:#fc7b03\">1.\tPlot the distribution of Overall rating for all players."
      ]
    },
    {
      "cell_type": "code",
      "metadata": {
        "ExecuteTime": {
          "start_time": "2020-02-16T10:30:05.817Z"
        },
        "id": "ibteoc4_joDP",
        "colab_type": "code",
        "colab": {
          "base_uri": "https://localhost:8080/",
          "height": 285
        },
        "outputId": "632c2420-2d61-4263-f2b6-e9f71d50a9cc"
      },
      "source": [
        "sns.scatterplot(fifa.Overall.value_counts().index,fifa.Overall.value_counts())"
      ],
      "execution_count": 71,
      "outputs": [
        {
          "output_type": "execute_result",
          "data": {
            "text/plain": [
              "<matplotlib.axes._subplots.AxesSubplot at 0x7f4c69b59208>"
            ]
          },
          "metadata": {
            "tags": []
          },
          "execution_count": 71
        },
        {
          "output_type": "display_data",
          "data": {
            "image/png": "[encoded data removed]",
            "text/plain": [
              "<Figure size 432x288 with 1 Axes>"
            ]
          },
          "metadata": {
            "tags": [],
            "needs_background": "light"
          }
        }
      ]
    },
    {
      "cell_type": "markdown",
      "metadata": {
        "ExecuteTime": {
          "end_time": "2020-02-15T21:22:59.491267Z",
          "start_time": "2020-02-15T21:22:59.485577Z"
        },
        "id": "PEP8B6u2joDR",
        "colab_type": "text"
      },
      "source": [
        "<span style=\"font-family: Arial; font-weight:bold;font-size:1.2em;color:#fc7b03\">2.\tGenerate pair plots for the following variables:\n",
        "    \n",
        "    1. Overall\n",
        "    2. Value\n",
        "    3. Wage\n",
        "    4. International Reputation\n",
        "    5. Height\n",
        "    6. Weight\n",
        "    7. Release Clause"
      ]
    },
    {
      "cell_type": "code",
      "metadata": {
        "ExecuteTime": {
          "start_time": "2020-02-16T10:30:05.820Z"
        },
        "id": "1oyrGHWfjoDR",
        "colab_type": "code",
        "colab": {
          "base_uri": "https://localhost:8080/",
          "height": 1000
        },
        "outputId": "03b80289-a03c-45b4-e33c-3f7d40a19d32"
      },
      "source": [
        "sns.pairplot(fifa[['Overall', 'Value', 'Wage', 'International Reputation', 'Height', 'Weight', 'Release Clause']])"
      ],
      "execution_count": 72,
      "outputs": [
        {
          "output_type": "execute_result",
          "data": {
            "text/plain": [
              "<seaborn.axisgrid.PairGrid at 0x7f4c69a29b70>"
            ]
          },
          "metadata": {
            "tags": []
          },
          "execution_count": 72
        },
        {
          "output_type": "display_data",
          "data": {
            "image/png": "[encoded data removed]",
            "text/plain": [
              "<Figure size 1260x1260 with 56 Axes>"
            ]
          },
          "metadata": {
            "tags": [],
            "needs_background": "light"
          }
        }
      ]
    },
    {
      "cell_type": "markdown",
      "metadata": {
        "ExecuteTime": {
          "end_time": "2020-02-15T21:19:19.779628Z",
          "start_time": "2020-02-15T21:19:19.769935Z"
        },
        "id": "kxjB8X6fjoDT",
        "colab_type": "text"
      },
      "source": [
        "<span style=\"font-family: Arial; font-weight:bold;font-size:1.2em;color:#fc7b03\">3.\tGenerate a table containing the top 20 players ranked by Overall score and whose contract expires in 2020.\n",
        " \n",
        "    a)\tWhat would the average wage for this set of players be?\n",
        "    b)\tWhat is the average age?\n",
        "    c)\tIs there a correlation between the Overall rating and Value for these players?\n"
      ]
    },
    {
      "cell_type": "markdown",
      "metadata": {
        "id": "kxIdYEd_joDU",
        "colab_type": "text"
      },
      "source": [
        "<span style=\"font-family: Arial; font-weight:bold;font-size:1.2em;color:#4e9968\">Generating the Table"
      ]
    },
    {
      "cell_type": "code",
      "metadata": {
        "ExecuteTime": {
          "start_time": "2020-02-16T10:30:05.822Z"
        },
        "id": "202yUVBEjoDU",
        "colab_type": "code",
        "colab": {
          "base_uri": "https://localhost:8080/",
          "height": 677
        },
        "outputId": "b9873913-4498-4e84-dc2d-9a86c1b265f0"
      },
      "source": [
        "fifa[\n",
        "    fifa['Contract Valid Until'] > pd.to_datetime('2020')\n",
        "].sort_values(\n",
        "    by='Overall',axis=0,ascending=False\n",
        ")[[\n",
        "    'Name','Age','Overall','Value','Wage','Contract Valid Until'\n",
        "]].head(20)"
      ],
      "execution_count": 73,
      "outputs": [
        {
          "output_type": "execute_result",
          "data": {
            "text/html": [
              "<div>\n",
              "<style scoped>\n",
              "    .dataframe tbody tr th:only-of-type {\n",
              "        vertical-align: middle;\n",
              "    }\n",
              "\n",
              "    .dataframe tbody tr th {\n",
              "        vertical-align: top;\n",
              "    }\n",
              "\n",
              "    .dataframe thead th {\n",
              "        text-align: right;\n",
              "    }\n",
              "</style>\n",
              "<table border=\"1\" class=\"dataframe\">\n",
              "  <thead>\n",
              "    <tr style=\"text-align: right;\">\n",
              "      <th></th>\n",
              "      <th>Name</th>\n",
              "      <th>Age</th>\n",
              "      <th>Overall</th>\n",
              "      <th>Value</th>\n",
              "      <th>Wage</th>\n",
              "      <th>Contract Valid Until</th>\n",
              "    </tr>\n",
              "  </thead>\n",
              "  <tbody>\n",
              "    <tr>\n",
              "      <th>0</th>\n",
              "      <td>L. Messi</td>\n",
              "      <td>31</td>\n",
              "      <td>94</td>\n",
              "      <td>110500000.0</td>\n",
              "      <td>565000.0</td>\n",
              "      <td>2021-01-01</td>\n",
              "    </tr>\n",
              "    <tr>\n",
              "      <th>1</th>\n",
              "      <td>Cristiano Ronaldo</td>\n",
              "      <td>33</td>\n",
              "      <td>94</td>\n",
              "      <td>77000000.0</td>\n",
              "      <td>405000.0</td>\n",
              "      <td>2022-01-01</td>\n",
              "    </tr>\n",
              "    <tr>\n",
              "      <th>2</th>\n",
              "      <td>Neymar Jr</td>\n",
              "      <td>26</td>\n",
              "      <td>92</td>\n",
              "      <td>118500000.0</td>\n",
              "      <td>290000.0</td>\n",
              "      <td>2022-01-01</td>\n",
              "    </tr>\n",
              "    <tr>\n",
              "      <th>4</th>\n",
              "      <td>K. De Bruyne</td>\n",
              "      <td>27</td>\n",
              "      <td>91</td>\n",
              "      <td>102000000.0</td>\n",
              "      <td>355000.0</td>\n",
              "      <td>2023-01-01</td>\n",
              "    </tr>\n",
              "    <tr>\n",
              "      <th>7</th>\n",
              "      <td>L. Suárez</td>\n",
              "      <td>31</td>\n",
              "      <td>91</td>\n",
              "      <td>80000000.0</td>\n",
              "      <td>455000.0</td>\n",
              "      <td>2021-01-01</td>\n",
              "    </tr>\n",
              "    <tr>\n",
              "      <th>9</th>\n",
              "      <td>J. Oblak</td>\n",
              "      <td>25</td>\n",
              "      <td>90</td>\n",
              "      <td>68000000.0</td>\n",
              "      <td>94000.0</td>\n",
              "      <td>2021-01-01</td>\n",
              "    </tr>\n",
              "    <tr>\n",
              "      <th>10</th>\n",
              "      <td>R. Lewandowski</td>\n",
              "      <td>29</td>\n",
              "      <td>90</td>\n",
              "      <td>77000000.0</td>\n",
              "      <td>205000.0</td>\n",
              "      <td>2021-01-01</td>\n",
              "    </tr>\n",
              "    <tr>\n",
              "      <th>11</th>\n",
              "      <td>T. Kroos</td>\n",
              "      <td>28</td>\n",
              "      <td>90</td>\n",
              "      <td>76500000.0</td>\n",
              "      <td>355000.0</td>\n",
              "      <td>2022-01-01</td>\n",
              "    </tr>\n",
              "    <tr>\n",
              "      <th>19</th>\n",
              "      <td>T. Courtois</td>\n",
              "      <td>26</td>\n",
              "      <td>89</td>\n",
              "      <td>53500000.0</td>\n",
              "      <td>240000.0</td>\n",
              "      <td>2024-01-01</td>\n",
              "    </tr>\n",
              "    <tr>\n",
              "      <th>23</th>\n",
              "      <td>S. Agüero</td>\n",
              "      <td>30</td>\n",
              "      <td>89</td>\n",
              "      <td>64500000.0</td>\n",
              "      <td>300000.0</td>\n",
              "      <td>2021-01-01</td>\n",
              "    </tr>\n",
              "    <tr>\n",
              "      <th>22</th>\n",
              "      <td>M. Neuer</td>\n",
              "      <td>32</td>\n",
              "      <td>89</td>\n",
              "      <td>38000000.0</td>\n",
              "      <td>130000.0</td>\n",
              "      <td>2021-01-01</td>\n",
              "    </tr>\n",
              "    <tr>\n",
              "      <th>20</th>\n",
              "      <td>Sergio Busquets</td>\n",
              "      <td>29</td>\n",
              "      <td>89</td>\n",
              "      <td>51500000.0</td>\n",
              "      <td>315000.0</td>\n",
              "      <td>2023-01-01</td>\n",
              "    </tr>\n",
              "    <tr>\n",
              "      <th>17</th>\n",
              "      <td>A. Griezmann</td>\n",
              "      <td>27</td>\n",
              "      <td>89</td>\n",
              "      <td>78000000.0</td>\n",
              "      <td>145000.0</td>\n",
              "      <td>2023-01-01</td>\n",
              "    </tr>\n",
              "    <tr>\n",
              "      <th>18</th>\n",
              "      <td>M. ter Stegen</td>\n",
              "      <td>26</td>\n",
              "      <td>89</td>\n",
              "      <td>58000000.0</td>\n",
              "      <td>240000.0</td>\n",
              "      <td>2022-01-01</td>\n",
              "    </tr>\n",
              "    <tr>\n",
              "      <th>16</th>\n",
              "      <td>H. Kane</td>\n",
              "      <td>24</td>\n",
              "      <td>89</td>\n",
              "      <td>83500000.0</td>\n",
              "      <td>205000.0</td>\n",
              "      <td>2024-01-01</td>\n",
              "    </tr>\n",
              "    <tr>\n",
              "      <th>15</th>\n",
              "      <td>P. Dybala</td>\n",
              "      <td>24</td>\n",
              "      <td>89</td>\n",
              "      <td>89000000.0</td>\n",
              "      <td>205000.0</td>\n",
              "      <td>2022-01-01</td>\n",
              "    </tr>\n",
              "    <tr>\n",
              "      <th>14</th>\n",
              "      <td>N. Kanté</td>\n",
              "      <td>27</td>\n",
              "      <td>89</td>\n",
              "      <td>63000000.0</td>\n",
              "      <td>225000.0</td>\n",
              "      <td>2023-01-01</td>\n",
              "    </tr>\n",
              "    <tr>\n",
              "      <th>34</th>\n",
              "      <td>M. Hummels</td>\n",
              "      <td>29</td>\n",
              "      <td>88</td>\n",
              "      <td>46000000.0</td>\n",
              "      <td>160000.0</td>\n",
              "      <td>2021-01-01</td>\n",
              "    </tr>\n",
              "    <tr>\n",
              "      <th>40</th>\n",
              "      <td>S. Handanovič</td>\n",
              "      <td>33</td>\n",
              "      <td>88</td>\n",
              "      <td>30000000.0</td>\n",
              "      <td>110000.0</td>\n",
              "      <td>2021-01-01</td>\n",
              "    </tr>\n",
              "    <tr>\n",
              "      <th>37</th>\n",
              "      <td>H. Lloris</td>\n",
              "      <td>31</td>\n",
              "      <td>88</td>\n",
              "      <td>36000000.0</td>\n",
              "      <td>150000.0</td>\n",
              "      <td>2022-01-01</td>\n",
              "    </tr>\n",
              "  </tbody>\n",
              "</table>\n",
              "</div>"
            ],
            "text/plain": [
              "                 Name  Age  Overall        Value      Wage Contract Valid Until\n",
              "0            L. Messi   31       94  110500000.0  565000.0           2021-01-01\n",
              "1   Cristiano Ronaldo   33       94   77000000.0  405000.0           2022-01-01\n",
              "2           Neymar Jr   26       92  118500000.0  290000.0           2022-01-01\n",
              "4        K. De Bruyne   27       91  102000000.0  355000.0           2023-01-01\n",
              "7           L. Suárez   31       91   80000000.0  455000.0           2021-01-01\n",
              "9            J. Oblak   25       90   68000000.0   94000.0           2021-01-01\n",
              "10     R. Lewandowski   29       90   77000000.0  205000.0           2021-01-01\n",
              "11           T. Kroos   28       90   76500000.0  355000.0           2022-01-01\n",
              "19        T. Courtois   26       89   53500000.0  240000.0           2024-01-01\n",
              "23          S. Agüero   30       89   64500000.0  300000.0           2021-01-01\n",
              "22           M. Neuer   32       89   38000000.0  130000.0           2021-01-01\n",
              "20    Sergio Busquets   29       89   51500000.0  315000.0           2023-01-01\n",
              "17       A. Griezmann   27       89   78000000.0  145000.0           2023-01-01\n",
              "18      M. ter Stegen   26       89   58000000.0  240000.0           2022-01-01\n",
              "16            H. Kane   24       89   83500000.0  205000.0           2024-01-01\n",
              "15          P. Dybala   24       89   89000000.0  205000.0           2022-01-01\n",
              "14           N. Kanté   27       89   63000000.0  225000.0           2023-01-01\n",
              "34         M. Hummels   29       88   46000000.0  160000.0           2021-01-01\n",
              "40      S. Handanovič   33       88   30000000.0  110000.0           2021-01-01\n",
              "37          H. Lloris   31       88   36000000.0  150000.0           2022-01-01"
            ]
          },
          "metadata": {
            "tags": []
          },
          "execution_count": 73
        }
      ]
    },
    {
      "cell_type": "markdown",
      "metadata": {
        "id": "iKczNt9JjoDW",
        "colab_type": "text"
      },
      "source": [
        "<span style=\"font-family: Arial; font-weight:bold;font-size:1.2em;color:#4e9968\">Average Wage"
      ]
    },
    {
      "cell_type": "code",
      "metadata": {
        "ExecuteTime": {
          "start_time": "2020-02-16T10:30:05.825Z"
        },
        "id": "gPT6qNPOjoDX",
        "colab_type": "code",
        "colab": {
          "base_uri": "https://localhost:8080/",
          "height": 54
        },
        "outputId": "1652fabc-1c5d-4e6d-d088-803cd3c3b1eb"
      },
      "source": [
        "# Average wage\n",
        "fifa[\n",
        "    fifa['Contract Valid Until'] >= pd.to_datetime('2020')\n",
        "].sort_values(\n",
        "    by='Overall',axis=0,ascending=False\n",
        ")[[\n",
        "    'Wage'\n",
        "]].head(20).mean()"
      ],
      "execution_count": 74,
      "outputs": [
        {
          "output_type": "execute_result",
          "data": {
            "text/plain": [
              "Wage    302450.0\n",
              "dtype: float64"
            ]
          },
          "metadata": {
            "tags": []
          },
          "execution_count": 74
        }
      ]
    },
    {
      "cell_type": "markdown",
      "metadata": {
        "id": "yVNBso0RjoDZ",
        "colab_type": "text"
      },
      "source": [
        "<span style=\"font-family: Arial; font-weight:bold;font-size:1.2em;color:#4e9968\">Average Age"
      ]
    },
    {
      "cell_type": "code",
      "metadata": {
        "ExecuteTime": {
          "start_time": "2020-02-16T10:30:05.827Z"
        },
        "id": "t6wigQjzjoDa",
        "colab_type": "code",
        "colab": {
          "base_uri": "https://localhost:8080/",
          "height": 54
        },
        "outputId": "03e85bdd-fb33-42c9-e273-afe8a6c392da"
      },
      "source": [
        "# Average age\n",
        "fifa[\n",
        "    fifa['Contract Valid Until'] >= pd.to_datetime('2020')\n",
        "].sort_values(\n",
        "    by='Overall',axis=0,ascending=False\n",
        ")[[\n",
        "    'Age'\n",
        "]].head(20).mean()"
      ],
      "execution_count": 75,
      "outputs": [
        {
          "output_type": "execute_result",
          "data": {
            "text/plain": [
              "Age    29.35\n",
              "dtype: float64"
            ]
          },
          "metadata": {
            "tags": []
          },
          "execution_count": 75
        }
      ]
    },
    {
      "cell_type": "markdown",
      "metadata": {
        "id": "b5xT5HjvjoDc",
        "colab_type": "text"
      },
      "source": [
        "<span style=\"font-family: Arial; font-weight:bold;font-size:1.2em;color:#4e9968\">Correlation between overall and value"
      ]
    },
    {
      "cell_type": "code",
      "metadata": {
        "ExecuteTime": {
          "start_time": "2020-02-16T10:30:05.830Z"
        },
        "id": "tUsLUIOejoDd",
        "colab_type": "code",
        "colab": {
          "base_uri": "https://localhost:8080/",
          "height": 112
        },
        "outputId": "d194c7c2-5a70-40da-c91f-e59a5e9c116f"
      },
      "source": [
        "# Correlation between overall and values\n",
        "fifa[\n",
        "    fifa['Contract Valid Until'] > pd.to_datetime('2020')\n",
        "].sort_values(\n",
        "    by='Overall',axis=0,ascending=False\n",
        ")[[\n",
        "    'Overall','Value'\n",
        "]].head(20).corr()"
      ],
      "execution_count": 76,
      "outputs": [
        {
          "output_type": "execute_result",
          "data": {
            "text/html": [
              "<div>\n",
              "<style scoped>\n",
              "    .dataframe tbody tr th:only-of-type {\n",
              "        vertical-align: middle;\n",
              "    }\n",
              "\n",
              "    .dataframe tbody tr th {\n",
              "        vertical-align: top;\n",
              "    }\n",
              "\n",
              "    .dataframe thead th {\n",
              "        text-align: right;\n",
              "    }\n",
              "</style>\n",
              "<table border=\"1\" class=\"dataframe\">\n",
              "  <thead>\n",
              "    <tr style=\"text-align: right;\">\n",
              "      <th></th>\n",
              "      <th>Overall</th>\n",
              "      <th>Value</th>\n",
              "    </tr>\n",
              "  </thead>\n",
              "  <tbody>\n",
              "    <tr>\n",
              "      <th>Overall</th>\n",
              "      <td>1.00000</td>\n",
              "      <td>0.71582</td>\n",
              "    </tr>\n",
              "    <tr>\n",
              "      <th>Value</th>\n",
              "      <td>0.71582</td>\n",
              "      <td>1.00000</td>\n",
              "    </tr>\n",
              "  </tbody>\n",
              "</table>\n",
              "</div>"
            ],
            "text/plain": [
              "         Overall    Value\n",
              "Overall  1.00000  0.71582\n",
              "Value    0.71582  1.00000"
            ]
          },
          "metadata": {
            "tags": []
          },
          "execution_count": 76
        }
      ]
    },
    {
      "cell_type": "markdown",
      "metadata": {
        "id": "-mhRbpBGjoDf",
        "colab_type": "text"
      },
      "source": [
        "##### Observation: There is an overall positive strong correlation between Overall and Value"
      ]
    },
    {
      "cell_type": "markdown",
      "metadata": {
        "id": "fzVhwc9sjoDf",
        "colab_type": "text"
      },
      "source": [
        "<span style=\"font-family: Arial; font-weight:bold;font-size:1.2em;color:#fc7b03\">4.\tGenerate tables containing the top 5 players by Overall rating for each unique position.\n",
        "\n",
        "    a)\tAre there any players appearing in more than one Table. Please point out such players.\n",
        "    b)\tWhat is the average wage one can expect to pay for the top 5 in every position?\n"
      ]
    },
    {
      "cell_type": "markdown",
      "metadata": {
        "id": "fA5ViLHcjoDg",
        "colab_type": "text"
      },
      "source": [
        "<span style=\"font-family: Arial; font-weight:bold;font-size:1.2em;color:#4e9968\">Generating the tables"
      ]
    },
    {
      "cell_type": "code",
      "metadata": {
        "ExecuteTime": {
          "start_time": "2020-02-16T10:30:05.833Z"
        },
        "scrolled": true,
        "id": "Vsb8JxNdjoDh",
        "colab_type": "code",
        "colab": {
          "base_uri": "https://localhost:8080/",
          "height": 1000
        },
        "outputId": "6ec503c7-cab8-4c4a-c4cb-fea81cb99553"
      },
      "source": [
        "# Generating tables containing the top 5 players\n",
        "\n",
        "for item in fifa['Position'].unique():\n",
        "    print('The top 5 players for position',item,'are:')\n",
        "    print(\n",
        "        fifa[\n",
        "            fifa['Position']==item                          # masking individual position\n",
        "            ].sort_values(\n",
        "                by='Overall',axis=0,ascending=False         # sorting the values by overall score in the descending order\n",
        "                         )\n",
        "        [['Name','Age','Overall','Value','Wage','Position'\n",
        "         ]].head(5)                                         # printing the top 5 only\n",
        "         )\n",
        "    print()"
      ],
      "execution_count": 77,
      "outputs": [
        {
          "output_type": "stream",
          "text": [
            "The top 5 players for position RF are:\n",
            "             Name  Age  Overall        Value      Wage Position\n",
            "0        L. Messi   31       94  110500000.0  565000.0       RF\n",
            "50     D. Mertens   31       87   45000000.0  135000.0       RF\n",
            "528     D. Valeri   32       80   11500000.0   12000.0       RF\n",
            "890   L. Podolski   33       78    6500000.0   11000.0       RF\n",
            "1774     C. Ciano   28       75    6500000.0   17000.0       RF\n",
            "\n",
            "The top 5 players for position ST are:\n",
            "                 Name  Age  Overall       Value      Wage Position\n",
            "1   Cristiano Ronaldo   33       94  77000000.0  405000.0       ST\n",
            "10     R. Lewandowski   29       90  77000000.0  205000.0       ST\n",
            "16            H. Kane   24       89  83500000.0  205000.0       ST\n",
            "23          S. Agüero   30       89  64500000.0  300000.0       ST\n",
            "36            G. Bale   28       88  60000000.0  355000.0       ST\n",
            "\n",
            "The top 5 players for position LW are:\n",
            "          Name  Age  Overall        Value      Wage Position\n",
            "2    Neymar Jr   26       92  118500000.0  290000.0       LW\n",
            "30        Isco   26       88   73500000.0  315000.0       LW\n",
            "32    Coutinho   26       88   69500000.0  340000.0       LW\n",
            "29  L. Insigne   27       88   62000000.0  165000.0       LW\n",
            "55     L. Sané   22       86   61000000.0  195000.0       LW\n",
            "\n",
            "The top 5 players for position GK are:\n",
            "             Name  Age  Overall       Value      Wage Position\n",
            "3          De Gea   27       91  72000000.0  260000.0       GK\n",
            "9        J. Oblak   25       90  68000000.0   94000.0       GK\n",
            "18  M. ter Stegen   26       89  58000000.0  240000.0       GK\n",
            "19    T. Courtois   26       89  53500000.0  240000.0       GK\n",
            "22       M. Neuer   32       89  38000000.0  130000.0       GK\n",
            "\n",
            "The top 5 players for position RCM are:\n",
            "            Name  Age  Overall        Value      Wage Position\n",
            "4   K. De Bruyne   27       91  102000000.0  355000.0      RCM\n",
            "6      L. Modrić   32       91   67000000.0  420000.0      RCM\n",
            "53    I. Rakitić   30       87   46500000.0  260000.0      RCM\n",
            "82    J. Kimmich   23       85   40500000.0   92000.0      RCM\n",
            "83          Saúl   23       85   50500000.0   77000.0      RCM\n",
            "\n",
            "The top 5 players for position LF are:\n",
            "                Name  Age  Overall       Value      Wage Position\n",
            "5          E. Hazard   27       91  93000000.0  340000.0       LF\n",
            "15         P. Dybala   24       89  89000000.0  205000.0       LF\n",
            "76           Iniesta   34       86  21500000.0   21000.0       LF\n",
            "272   Jonathan Viera   28       82  22500000.0   31000.0       LF\n",
            "1379       S. Blanco   30       76   7500000.0    9000.0       LF\n",
            "\n",
            "The top 5 players for position RS are:\n",
            "               Name  Age  Overall       Value      Wage Position\n",
            "7         L. Suárez   31       91  80000000.0  455000.0       RS\n",
            "109  Z. Ibrahimović   36       85  14000000.0   15000.0       RS\n",
            "148          Falcao   32       84  25000000.0  115000.0       RS\n",
            "267   W. Ben Yedder   27       82  23500000.0   28000.0       RS\n",
            "357         S. Zaza   27       81  21000000.0   48000.0       RS\n",
            "\n",
            "The top 5 players for position RCB are:\n",
            "            Name  Age  Overall       Value      Wage Position\n",
            "8   Sergio Ramos   32       91  51000000.0  380000.0      RCB\n",
            "39  Thiago Silva   33       88  24000000.0  165000.0      RCB\n",
            "54         Piqué   31       87  34000000.0  240000.0      RCB\n",
            "62     R. Varane   25       86  50000000.0  210000.0      RCB\n",
            "70    L. Bonucci   31       86  30000000.0  160000.0      RCB\n",
            "\n",
            "The top 5 players for position LCM are:\n",
            "                Name  Age  Overall       Value      Wage Position\n",
            "11          T. Kroos   28       90  76500000.0  355000.0      LCM\n",
            "13       David Silva   32       90  60000000.0  285000.0      LCM\n",
            "52         M. Hamšík   30       87  46500000.0  125000.0      LCM\n",
            "63       M. Verratti   25       86  55000000.0  135000.0      LCM\n",
            "114  Bruno Fernandes   23       84  40500000.0   22000.0      LCM\n",
            "\n",
            "The top 5 players for position CB are:\n",
            "            Name  Age  Overall       Value      Wage Position\n",
            "12      D. Godín   32       90  44000000.0  125000.0       CB\n",
            "42     S. Umtiti   24       87  57000000.0  205000.0       CB\n",
            "73    M. Benatia   31       86  30000000.0  160000.0       CB\n",
            "89   N. Otamendi   30       85  28500000.0  170000.0       CB\n",
            "102        Naldo   35       85   9000000.0   38000.0       CB\n",
            "\n",
            "The top 5 players for position LDM are:\n",
            "            Name  Age  Overall       Value      Wage Position\n",
            "14      N. Kanté   27       89  63000000.0  225000.0      LDM\n",
            "91      Paulinho   29       85  37000000.0  235000.0      LDM\n",
            "119   Marquinhos   24       84  35500000.0   90000.0      LDM\n",
            "217  Lucas Leiva   31       83  17500000.0   64000.0      LDM\n",
            "323   F. de Jong   21       81  26000000.0   19000.0      LDM\n",
            "\n",
            "The top 5 players for position CAM are:\n",
            "               Name  Age  Overall       Value      Wage Position\n",
            "17     A. Griezmann   27       89  78000000.0  145000.0      CAM\n",
            "31       C. Eriksen   26       88  73500000.0  205000.0      CAM\n",
            "61  Roberto Firmino   26       86  53000000.0  195000.0      CAM\n",
            "66        T. Müller   28       86  45000000.0  135000.0      CAM\n",
            "74          M. Özil   29       86  43500000.0  190000.0      CAM\n",
            "\n",
            "The top 5 players for position CDM are:\n",
            "                Name  Age  Overall       Value      Wage Position\n",
            "20   Sergio Busquets   29       89  51500000.0  315000.0      CDM\n",
            "27          Casemiro   26       88  59500000.0  285000.0      CDM\n",
            "72         M. Pjanić   28       86  44000000.0  180000.0      CDM\n",
            "75       Fernandinho   33       86  18000000.0  185000.0      CDM\n",
            "118          Fabinho   24       84  34000000.0  120000.0      CDM\n",
            "\n",
            "The top 5 players for position LS are:\n",
            "              Name  Age  Overall       Value      Wage Position\n",
            "21       E. Cavani   31       89  60000000.0  200000.0       LS\n",
            "38      G. Higuaín   30       88  57000000.0  245000.0       LS\n",
            "100    Diego Costa   29       85  38500000.0  100000.0       LS\n",
            "151       A. Gómez   30       84  30000000.0   53000.0       LS\n",
            "174  Gerard Moreno   26       83  32000000.0   53000.0       LS\n",
            "\n",
            "The top 5 players for position LCB are:\n",
            "             Name  Age  Overall       Value      Wage Position\n",
            "24   G. Chiellini   33       89  27000000.0  215000.0      LCB\n",
            "34     M. Hummels   29       88  46000000.0  160000.0      LCB\n",
            "44   K. Koulibaly   27       87  51000000.0  115000.0      LCB\n",
            "51  J. Vertonghen   31       87  34000000.0  155000.0      LCB\n",
            "59    V. van Dijk   26       86  44500000.0  165000.0      LCB\n",
            "\n",
            "The top 5 players for position RM are:\n",
            "              Name  Age  Overall       Value      Wage Position\n",
            "25       K. Mbappé   19       88  81000000.0  100000.0       RM\n",
            "26        M. Salah   26       88  69500000.0  255000.0       RM\n",
            "122     F. Thauvin   25       84  39000000.0   72000.0       RM\n",
            "137  José Callejón   31       84  27500000.0  105000.0       RM\n",
            "138    A. Di María   30       84  29500000.0  125000.0       RM\n",
            "\n",
            "The top 5 players for position LAM are:\n",
            "                 Name  Age  Overall       Value      Wage Position\n",
            "28       J. Rodríguez   26       88  69500000.0  315000.0      LAM\n",
            "365          D. Tadić   29       81  17500000.0   26000.0      LAM\n",
            "1587   Fabrio Farinha   26       75   7000000.0   31000.0      LAM\n",
            "2247  Leo Caldeirinha   34       74   2800000.0   13000.0      LAM\n",
            "2342  Nicolás Formido   30       74   5500000.0   23000.0      LAM\n",
            "\n",
            "The top 5 players for position LM are:\n",
            "             Name  Age  Overall       Value      Wage Position\n",
            "33  P. Aubameyang   29       88  59000000.0  265000.0       LM\n",
            "65  Douglas Costa   27       86  46500000.0  175000.0       LM\n",
            "68        M. Reus   29       86  43500000.0  100000.0       LM\n",
            "58        S. Mané   26       86  52000000.0  195000.0       LM\n",
            "86           Koke   26       85  45000000.0   88000.0       LM\n",
            "\n",
            "The top 5 players for position LB are:\n",
            "            Name  Age  Overall       Value      Wage Position\n",
            "35       Marcelo   30       88  43000000.0  285000.0       LB\n",
            "49    Jordi Alba   29       87  38000000.0  250000.0       LB\n",
            "64   Alex Sandro   27       86  36500000.0  160000.0       LB\n",
            "85      D. Alaba   26       85  38000000.0  110000.0       LB\n",
            "106  Filipe Luís   32       85  21500000.0   81000.0       LB\n",
            "\n",
            "The top 5 players for position RDM are:\n",
            "             Name  Age  Overall       Value      Wage Position\n",
            "45       P. Pogba   25       87  64000000.0  210000.0      RDM\n",
            "134  Illarramendi   28       84  31000000.0   51000.0      RDM\n",
            "198      I. Gueye   28       83  21000000.0  125000.0      RDM\n",
            "223   D. De Rossi   34       83   8000000.0   80000.0      RDM\n",
            "298     M. Parolo   33       82   9000000.0   59000.0      RDM\n",
            "\n",
            "The top 5 players for position RW are:\n",
            "              Name  Age  Overall       Value      Wage Position\n",
            "56  Bernardo Silva   23       86  59500000.0  180000.0       RW\n",
            "60     R. Sterling   23       86  56500000.0  195000.0       RW\n",
            "79   Marco Asensio   22       85  54000000.0  215000.0       RW\n",
            "93      A. Sánchez   29       85  37500000.0  215000.0       RW\n",
            "84       R. Mahrez   27       85  40500000.0  205000.0       RW\n",
            "\n",
            "The top 5 players for position CM are:\n",
            "                    Name  Age  Overall       Value      Wage Position\n",
            "67                Thiago   27       86  45500000.0  130000.0       CM\n",
            "78   S. Milinković-Savić   23       85  50500000.0   73000.0       CM\n",
            "121             Jorginho   26       84  38000000.0  155000.0       CM\n",
            "136          I. Gündoğan   27       84  32000000.0  175000.0       CM\n",
            "161             N. Keïta   23       83  34000000.0  120000.0       CM\n",
            "\n",
            "The top 5 players for position RB are:\n",
            "              Name  Age  Overall       Value      Wage Position\n",
            "69     Azpilicueta   28       86  35000000.0  175000.0       RB\n",
            "135      K. Walker   28       84  24500000.0  165000.0       RB\n",
            "123       Carvajal   26       84  31500000.0  185000.0       RB\n",
            "192  Sergi Roberto   26       83  26500000.0  170000.0       RB\n",
            "216      L. Bender   29       83  20000000.0   82000.0       RB\n",
            "\n",
            "The top 5 players for position RAM are:\n",
            "                Name  Age  Overall       Value      Wage Position\n",
            "129      J. Cuadrado   30       84  29500000.0  150000.0      RAM\n",
            "171        H. Ziyech   25       83  32500000.0   28000.0      RAM\n",
            "1705  Allan Bardinho   26       75   7000000.0   22000.0      RAM\n",
            "2242    Jacson Zonta   34       74   2800000.0   13000.0      RAM\n",
            "2322  Sebas Couteira   30       74   5500000.0   14000.0      RAM\n",
            "\n",
            "The top 5 players for position CF are:\n",
            "             Name  Age  Overall       Value     Wage Position\n",
            "271  Luis Alberto   25       82  28500000.0  67000.0       CF\n",
            "293   S. Giovinco   31       82  20000000.0  15000.0       CF\n",
            "350      A. Milik   24       81  25500000.0  71000.0       CF\n",
            "382     L. Stindl   29       81  18000000.0  43000.0       CF\n",
            "407       Raffael   33       81  11000000.0  41000.0       CF\n",
            "\n",
            "The top 5 players for position RWB are:\n",
            "             Name  Age  Overall       Value     Wage Position\n",
            "450     M. Ginter   24       80  15500000.0  28000.0      RWB\n",
            "517    S. Coleman   29       80  11000000.0  97000.0      RWB\n",
            "465  P. Kadeřábek   26       80  14000000.0  39000.0      RWB\n",
            "652  D. Caligiuri   30       79   9000000.0  33000.0      RWB\n",
            "766  Pablo Maffeo   20       78  13000000.0  24000.0      RWB\n",
            "\n",
            "The top 5 players for position LWB are:\n",
            "          Name  Age  Overall       Value     Wage Position\n",
            "474  N. Schulz   25       80  14500000.0  37000.0      LWB\n",
            "605  J. Hector   28       79  10000000.0  26000.0      LWB\n",
            "581    Granell   29       79  12000000.0  37000.0      LWB\n",
            "601      Jonny   24       79  13500000.0  43000.0      LWB\n",
            "787  J. Mojica   25       78  10500000.0  28000.0      LWB\n",
            "\n"
          ],
          "name": "stdout"
        }
      ]
    },
    {
      "cell_type": "markdown",
      "metadata": {
        "id": "D01klzPzjoDj",
        "colab_type": "text"
      },
      "source": [
        "<span style=\"font-family: Arial; font-weight:bold;font-size:1.2em;color:#4e9968\">Checking for player repetition across tables"
      ]
    },
    {
      "cell_type": "code",
      "metadata": {
        "ExecuteTime": {
          "start_time": "2020-02-16T10:30:05.835Z"
        },
        "scrolled": true,
        "id": "cgN2_Zj9joDk",
        "colab_type": "code",
        "colab": {
          "base_uri": "https://localhost:8080/",
          "height": 1000
        },
        "outputId": "77ef1c28-180b-4924-eeec-3c94161df063"
      },
      "source": [
        "position = {}                                         # Creating an emty dictionary for storage\n",
        "for item in fifa['Position'].unique():\n",
        "    \n",
        "    \n",
        "    position[item] = list(fifa                        # storing the column 'Name' for each postion as a list under the position name as the key\n",
        "                    [fifa['Position']==item\n",
        "                    ].sort_values(by='Overall',\n",
        "                                      axis=0,\n",
        "                                      ascending=False\n",
        "                                 )['Name'\n",
        "                                  ].head(5))\n",
        "    \n",
        "position\n",
        "         "
      ],
      "execution_count": 78,
      "outputs": [
        {
          "output_type": "execute_result",
          "data": {
            "text/plain": [
              "{'CAM': ['A. Griezmann',\n",
              "  'C. Eriksen',\n",
              "  'Roberto Firmino',\n",
              "  'T. Müller',\n",
              "  'M. Özil'],\n",
              " 'CB': ['D. Godín', 'S. Umtiti', 'M. Benatia', 'N. Otamendi', 'Naldo'],\n",
              " 'CDM': ['Sergio Busquets', 'Casemiro', 'M. Pjanić', 'Fernandinho', 'Fabinho'],\n",
              " 'CF': ['Luis Alberto', 'S. Giovinco', 'A. Milik', 'L. Stindl', 'Raffael'],\n",
              " 'CM': ['Thiago',\n",
              "  'S. Milinković-Savić',\n",
              "  'Jorginho',\n",
              "  'I. Gündoğan',\n",
              "  'N. Keïta'],\n",
              " 'GK': ['De Gea', 'J. Oblak', 'M. ter Stegen', 'T. Courtois', 'M. Neuer'],\n",
              " 'LAM': ['J. Rodríguez',\n",
              "  'D. Tadić',\n",
              "  'Fabrio Farinha',\n",
              "  'Leo Caldeirinha',\n",
              "  'Nicolás Formido'],\n",
              " 'LB': ['Marcelo', 'Jordi Alba', 'Alex Sandro', 'D. Alaba', 'Filipe Luís'],\n",
              " 'LCB': ['G. Chiellini',\n",
              "  'M. Hummels',\n",
              "  'K. Koulibaly',\n",
              "  'J. Vertonghen',\n",
              "  'V. van Dijk'],\n",
              " 'LCM': ['T. Kroos',\n",
              "  'David Silva',\n",
              "  'M. Hamšík',\n",
              "  'M. Verratti',\n",
              "  'Bruno Fernandes'],\n",
              " 'LDM': ['N. Kanté', 'Paulinho', 'Marquinhos', 'Lucas Leiva', 'F. de Jong'],\n",
              " 'LF': ['E. Hazard', 'P. Dybala', 'Iniesta', 'Jonathan Viera', 'S. Blanco'],\n",
              " 'LM': ['P. Aubameyang', 'Douglas Costa', 'M. Reus', 'S. Mané', 'Koke'],\n",
              " 'LS': ['E. Cavani', 'G. Higuaín', 'Diego Costa', 'A. Gómez', 'Gerard Moreno'],\n",
              " 'LW': ['Neymar Jr', 'Isco', 'Coutinho', 'L. Insigne', 'L. Sané'],\n",
              " 'LWB': ['N. Schulz', 'J. Hector', 'Granell', 'Jonny', 'J. Mojica'],\n",
              " 'RAM': ['J. Cuadrado',\n",
              "  'H. Ziyech',\n",
              "  'Allan Bardinho',\n",
              "  'Jacson Zonta',\n",
              "  'Sebas Couteira'],\n",
              " 'RB': ['Azpilicueta', 'K. Walker', 'Carvajal', 'Sergi Roberto', 'L. Bender'],\n",
              " 'RCB': ['Sergio Ramos', 'Thiago Silva', 'Piqué', 'R. Varane', 'L. Bonucci'],\n",
              " 'RCM': ['K. De Bruyne', 'L. Modrić', 'I. Rakitić', 'J. Kimmich', 'Saúl'],\n",
              " 'RDM': ['P. Pogba', 'Illarramendi', 'I. Gueye', 'D. De Rossi', 'M. Parolo'],\n",
              " 'RF': ['L. Messi', 'D. Mertens', 'D. Valeri', 'L. Podolski', 'C. Ciano'],\n",
              " 'RM': ['K. Mbappé', 'M. Salah', 'F. Thauvin', 'José Callejón', 'A. Di María'],\n",
              " 'RS': ['L. Suárez', 'Z. Ibrahimović', 'Falcao', 'W. Ben Yedder', 'S. Zaza'],\n",
              " 'RW': ['Bernardo Silva',\n",
              "  'R. Sterling',\n",
              "  'Marco Asensio',\n",
              "  'A. Sánchez',\n",
              "  'R. Mahrez'],\n",
              " 'RWB': ['M. Ginter',\n",
              "  'S. Coleman',\n",
              "  'P. Kadeřábek',\n",
              "  'D. Caligiuri',\n",
              "  'Pablo Maffeo'],\n",
              " 'ST': ['Cristiano Ronaldo',\n",
              "  'R. Lewandowski',\n",
              "  'H. Kane',\n",
              "  'S. Agüero',\n",
              "  'G. Bale']}"
            ]
          },
          "metadata": {
            "tags": []
          },
          "execution_count": 78
        }
      ]
    },
    {
      "cell_type": "code",
      "metadata": {
        "ExecuteTime": {
          "start_time": "2020-02-16T10:30:05.837Z"
        },
        "id": "w_JU0FeSjoDm",
        "colab_type": "code",
        "colab": {}
      },
      "source": [
        "a = list(fifa['Position'].unique())      # list of all the unique values in position\n",
        "b = list(fifa['Position'].unique())      # list of all the unique values in position\n",
        "for key1 in a:\n",
        "    b.remove(key1)                       # removing the value of a from b so that the same keys(position[key]) are not compared\n",
        "    for key2 in b:\n",
        "        for item1 in position[key1]:\n",
        "            for item2 in position[key2]:\n",
        "                if item1==item2:         # checking for same values\n",
        "                    print(item1)\n",
        "    "
      ],
      "execution_count": 79,
      "outputs": []
    },
    {
      "cell_type": "markdown",
      "metadata": {
        "id": "E9Mt-jvojoDo",
        "colab_type": "text"
      },
      "source": [
        "##### Observation: No player seems to be appearing in more than one table"
      ]
    },
    {
      "cell_type": "markdown",
      "metadata": {
        "id": "3V23LmUkjoDo",
        "colab_type": "text"
      },
      "source": [
        "<span style=\"font-family: Arial; font-weight:bold;font-size:1.2em;color:#4e9968\">Average wage expectation for each position"
      ]
    },
    {
      "cell_type": "code",
      "metadata": {
        "ExecuteTime": {
          "start_time": "2020-02-16T10:30:05.840Z"
        },
        "scrolled": true,
        "id": "_n1o_fmkjoDp",
        "colab_type": "code",
        "colab": {
          "base_uri": "https://localhost:8080/",
          "height": 1000
        },
        "outputId": "b92edfb0-10e8-4cdc-97ed-d42524af42cd"
      },
      "source": [
        "# Average wage expectation\n",
        "\n",
        "for item in fifa['Position'].unique():                     # looking for unique postion values\n",
        "    \n",
        "    the_wage = fifa[\n",
        "        fifa['Position']==item\n",
        "    ].sort_values(by='Overall',\n",
        "                  axis=0,\n",
        "                  ascending=False)['Wage'].head(5).mean()  # finding the mean for each postion\n",
        "    \n",
        "    print('The Average Wage expectation for the top 5 players in  position',item,'is',the_wage)     \n",
        "    \n",
        "    print()"
      ],
      "execution_count": 80,
      "outputs": [
        {
          "output_type": "stream",
          "text": [
            "The Average Wage expectation for the top 5 players in  position RF is 148000.0\n",
            "\n",
            "The Average Wage expectation for the top 5 players in  position ST is 294000.0\n",
            "\n",
            "The Average Wage expectation for the top 5 players in  position LW is 261000.0\n",
            "\n",
            "The Average Wage expectation for the top 5 players in  position GK is 192800.0\n",
            "\n",
            "The Average Wage expectation for the top 5 players in  position RCM is 240800.0\n",
            "\n",
            "The Average Wage expectation for the top 5 players in  position LF is 121200.0\n",
            "\n",
            "The Average Wage expectation for the top 5 players in  position RS is 132200.0\n",
            "\n",
            "The Average Wage expectation for the top 5 players in  position RCB is 231000.0\n",
            "\n",
            "The Average Wage expectation for the top 5 players in  position LCM is 184400.0\n",
            "\n",
            "The Average Wage expectation for the top 5 players in  position CB is 139600.0\n",
            "\n",
            "The Average Wage expectation for the top 5 players in  position LDM is 126600.0\n",
            "\n",
            "The Average Wage expectation for the top 5 players in  position CAM is 174000.0\n",
            "\n",
            "The Average Wage expectation for the top 5 players in  position CDM is 217000.0\n",
            "\n",
            "The Average Wage expectation for the top 5 players in  position LS is 130200.0\n",
            "\n",
            "The Average Wage expectation for the top 5 players in  position LCB is 162000.0\n",
            "\n",
            "The Average Wage expectation for the top 5 players in  position RM is 131400.0\n",
            "\n",
            "The Average Wage expectation for the top 5 players in  position LAM is 81600.0\n",
            "\n",
            "The Average Wage expectation for the top 5 players in  position LM is 164600.0\n",
            "\n",
            "The Average Wage expectation for the top 5 players in  position LB is 177200.0\n",
            "\n",
            "The Average Wage expectation for the top 5 players in  position RDM is 105000.0\n",
            "\n",
            "The Average Wage expectation for the top 5 players in  position RW is 202000.0\n",
            "\n",
            "The Average Wage expectation for the top 5 players in  position CM is 130600.0\n",
            "\n",
            "The Average Wage expectation for the top 5 players in  position RB is 155400.0\n",
            "\n",
            "The Average Wage expectation for the top 5 players in  position RAM is 45400.0\n",
            "\n",
            "The Average Wage expectation for the top 5 players in  position CF is 47400.0\n",
            "\n",
            "The Average Wage expectation for the top 5 players in  position RWB is 44200.0\n",
            "\n",
            "The Average Wage expectation for the top 5 players in  position LWB is 34200.0\n",
            "\n"
          ],
          "name": "stdout"
        }
      ]
    },
    {
      "cell_type": "code",
      "metadata": {
        "id": "x1RXjNTijoDr",
        "colab_type": "code",
        "colab": {}
      },
      "source": [
        ""
      ],
      "execution_count": 80,
      "outputs": []
    }
  ]
}